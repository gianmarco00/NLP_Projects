{
  "cells": [
    {
      "cell_type": "markdown",
      "metadata": {
        "id": "view-in-github",
        "colab_type": "text"
      },
      "source": [
        "<a href=\"https://colab.research.google.com/github/gianmarco00/NLP_Projects/blob/main/Copy_of_Exercise_2_Word_Embeddings_(1).ipynb\" target=\"_parent\"><img src=\"https://colab.research.google.com/assets/colab-badge.svg\" alt=\"Open In Colab\"/></a>"
      ]
    },
    {
      "cell_type": "code",
      "execution_count": 6,
      "metadata": {
        "id": "gALCagMSOnRz"
      },
      "outputs": [],
      "source": [
        "%matplotlib inline"
      ]
    },
    {
      "cell_type": "markdown",
      "metadata": {
        "id": "jgHDDrKlO35U"
      },
      "source": [
        "### Source: [link](https://pytorch.org/tutorials/beginner/nlp/word_embeddings_tutorial.html#exercise-computing-word-embeddings-continuous-bag-of-words)\n",
        "\n",
        "# Word Embeddings: Encoding Lexical Semantics\n",
        "\n",
        "Word embeddings are dense vectors of real numbers, one per word in your\n",
        "vocabulary. In NLP, it is almost always the case that your features are\n",
        "words! But how should you represent a word in a computer? You could\n",
        "store its ascii character representation, but that only tells you what\n",
        "the word *is*, it doesn't say much about what it *means* (you might be\n",
        "able to derive its part of speech from its affixes, or properties from\n",
        "its capitalization, but not much). Even more, in what sense could you\n",
        "combine these representations? We often want dense outputs from our\n",
        "neural networks, where the inputs are $|V|$ dimensional, where\n",
        "$V$ is our vocabulary, but often the outputs are only a few\n",
        "dimensional (if we are only predicting a handful of labels, for\n",
        "instance). How do we get from a massive dimensional space to a smaller\n",
        "dimensional space?\n",
        "\n",
        "How about instead of ascii representations, we use a one-hot encoding?\n",
        "That is, we represent the word $w$ by\n",
        "\n",
        "\\begin{align}\\overbrace{\\left[ 0, 0, \\dots, 1, \\dots, 0, 0 \\right]}^\\text{|V| elements}\\end{align}\n",
        "\n",
        "where the 1 is in a location unique to $w$. Any other word will\n",
        "have a 1 in some other location, and a 0 everywhere else.\n",
        "\n",
        "There is an enormous drawback to this representation, besides just how\n",
        "huge it is. It basically treats all words as independent entities with\n",
        "no relation to each other. What we really want is some notion of\n",
        "*similarity* between words. Why? Let's see an example.\n",
        "\n",
        "Suppose we are building a language model. Suppose we have seen the\n",
        "sentences\n",
        "\n",
        "* The mathematician ran to the store.\n",
        "* The physicist ran to the store.\n",
        "* The mathematician solved the open problem.\n",
        "\n",
        "in our training data. Now suppose we get a new sentence never before\n",
        "seen in our training data:\n",
        "\n",
        "* The physicist solved the open problem.\n",
        "\n",
        "Our language model might do OK on this sentence, but wouldn't it be much\n",
        "better if we could use the following two facts:\n",
        "\n",
        "* We have seen  mathematician and physicist in the same role in a sentence. Somehow they\n",
        "  have a semantic relation.\n",
        "* We have seen mathematician in the same role  in this new unseen sentence\n",
        "  as we are now seeing physicist.\n",
        "\n",
        "and then infer that physicist is actually a good fit in the new unseen\n",
        "sentence? This is what we mean by a notion of similarity: we mean\n",
        "*semantic similarity*, not simply having similar orthographic\n",
        "representations. It is a technique to combat the sparsity of linguistic\n",
        "data, by connecting the dots between what we have seen and what we\n",
        "haven't. This example of course relies on a fundamental linguistic\n",
        "assumption: that words appearing in similar contexts are related to each\n",
        "other semantically. This is called the `distributional\n",
        "hypothesis <https://en.wikipedia.org/wiki/Distributional_semantics>`__.\n",
        "\n",
        "\n",
        "# Getting Dense Word Embeddings\n",
        "\n",
        "How can we solve this problem? That is, how could we actually encode\n",
        "semantic similarity in words? Maybe we think up some semantic\n",
        "attributes. For example, we see that both mathematicians and physicists\n",
        "can run, so maybe we give these words a high score for the \"is able to\n",
        "run\" semantic attribute. Think of some other attributes, and imagine\n",
        "what you might score some common words on those attributes.\n",
        "\n",
        "If each attribute is a dimension, then we might give each word a vector,\n",
        "like this:\n",
        "\n",
        "\\begin{align}q_\\text{mathematician} = \\left[ \\overbrace{2.3}^\\text{can run},\n",
        "   \\overbrace{9.4}^\\text{likes coffee}, \\overbrace{-5.5}^\\text{majored in Physics}, \\dots \\right]\\end{align}\n",
        "\n",
        "\\begin{align}q_\\text{physicist} = \\left[ \\overbrace{2.5}^\\text{can run},\n",
        "   \\overbrace{9.1}^\\text{likes coffee}, \\overbrace{6.4}^\\text{majored in Physics}, \\dots \\right]\\end{align}\n",
        "\n",
        "Then we can get a measure of similarity between these words by doing:\n",
        "\n",
        "\\begin{align}\\text{Similarity}(\\text{physicist}, \\text{mathematician}) = q_\\text{physicist} \\cdot q_\\text{mathematician}\\end{align}\n",
        "\n",
        "Although it is more common to normalize by the lengths:\n",
        "\n",
        "\\begin{align}\\text{Similarity}(\\text{physicist}, \\text{mathematician}) = \\frac{q_\\text{physicist} \\cdot q_\\text{mathematician}}\n",
        "   {\\| q_\\text{\\physicist} \\| \\| q_\\text{mathematician} \\|} = \\cos (\\phi)\\end{align}\n",
        "\n",
        "Where $\\phi$ is the angle between the two vectors. That way,\n",
        "extremely similar words (words whose embeddings point in the same\n",
        "direction) will have similarity 1. Extremely dissimilar words should\n",
        "have similarity -1.\n",
        "\n",
        "\n",
        "You can think of the sparse one-hot vectors from the beginning of this\n",
        "section as a special case of these new vectors we have defined, where\n",
        "each word basically has similarity 0, and we gave each word some unique\n",
        "semantic attribute. These new vectors are *dense*, which is to say their\n",
        "entries are (typically) non-zero.\n",
        "\n",
        "But these new vectors are a big pain: you could think of thousands of\n",
        "different semantic attributes that might be relevant to determining\n",
        "similarity, and how on earth would you set the values of the different\n",
        "attributes? Central to the idea of deep learning is that the neural\n",
        "network learns representations of the features, rather than requiring\n",
        "the programmer to design them herself. So why not just let the word\n",
        "embeddings be parameters in our model, and then be updated during\n",
        "training? This is exactly what we will do. We will have some *latent\n",
        "semantic attributes* that the network can, in principle, learn. Note\n",
        "that the word embeddings will probably not be interpretable. That is,\n",
        "although with our hand-crafted vectors above we can see that\n",
        "mathematicians and physicists are similar in that they both like coffee,\n",
        "if we allow a neural network to learn the embeddings and see that both\n",
        "mathematicians and physicists have a large value in the second\n",
        "dimension, it is not clear what that means. They are similar in some\n",
        "latent semantic dimension, but this probably has no interpretation to\n",
        "us.\n",
        "\n",
        "\n",
        "In summary, **word embeddings are a representation of the *semantics* of\n",
        "a word, efficiently encoding semantic information that might be relevant\n",
        "to the task at hand**. You can embed other things too: part of speech\n",
        "tags, parse trees, anything! The idea of feature embeddings is central\n",
        "to the field.\n",
        "\n",
        "\n",
        "# Word Embeddings in Pytorch\n",
        "\n",
        "Before we get to a worked example and an exercise, a few quick notes\n",
        "about how to use embeddings in Pytorch and in deep learning programming\n",
        "in general. Similar to how we defined a unique index for each word when\n",
        "making one-hot vectors, we also need to define an index for each word\n",
        "when using embeddings. These will be keys into a lookup table. That is,\n",
        "embeddings are stored as a $|V| \\times D$ matrix, where $D$\n",
        "is the dimensionality of the embeddings, such that the word assigned\n",
        "index $i$ has its embedding stored in the $i$'th row of the\n",
        "matrix. In all of my code, the mapping from words to indices is a\n",
        "dictionary named word\\_to\\_ix.\n",
        "\n",
        "The module that allows you to use embeddings is torch.nn.Embedding,\n",
        "which takes two arguments: the vocabulary size, and the dimensionality\n",
        "of the embeddings.\n",
        "\n",
        "To index into this table, you must use torch.LongTensor (since the\n",
        "indices are integers, not floats).\n",
        "\n",
        "\n"
      ]
    },
    {
      "cell_type": "code",
      "execution_count": 2,
      "metadata": {
        "colab": {
          "base_uri": "https://localhost:8080/"
        },
        "id": "vBz0b0BuMQI1",
        "outputId": "5d8c23e3-7efe-4c92-f74b-d9c4e8791495"
      },
      "outputs": [
        {
          "output_type": "stream",
          "name": "stdout",
          "text": [
            "Mounted at /content/drive\n"
          ]
        }
      ],
      "source": [
        "from google.colab import drive\n",
        "drive.mount('/content/drive', force_remount=True)\n",
        "PATH = '/content/drive/My Drive/Colab Notebooks/NLP/'"
      ]
    },
    {
      "cell_type": "code",
      "execution_count": 2,
      "metadata": {
        "colab": {
          "base_uri": "https://localhost:8080/"
        },
        "id": "M_Q2GVH0OwvH",
        "outputId": "4801c886-e34f-4c23-8e71-55573cb07ee5"
      },
      "outputs": [
        {
          "output_type": "execute_result",
          "data": {
            "text/plain": [
              "<torch._C.Generator at 0x7c490a2e47f0>"
            ]
          },
          "metadata": {},
          "execution_count": 2
        }
      ],
      "source": [
        "# Author: Robert Guthrie\n",
        "\n",
        "import torch\n",
        "#assert torch.cuda.is_available(), 'GPU not available'\n",
        "import torch.nn as nn\n",
        "import torch.nn.functional as F\n",
        "import torch.optim as optim\n",
        "import numpy as np\n",
        "torch.manual_seed(1)"
      ]
    },
    {
      "cell_type": "code",
      "execution_count": 3,
      "metadata": {
        "colab": {
          "base_uri": "https://localhost:8080/"
        },
        "id": "HC_XDqKuM5-T",
        "outputId": "00a95ce8-d17f-4d94-bcf7-b79fb6326618"
      },
      "outputs": [
        {
          "output_type": "stream",
          "name": "stdout",
          "text": [
            "GPU is available and being used.\n"
          ]
        }
      ],
      "source": [
        "\n",
        "if torch.cuda.is_available():\n",
        "    device = torch.device(\"cuda\")\n",
        "    print(\"GPU is available and being used.\")\n",
        "else:\n",
        "    device = torch.device(\"cpu\")\n",
        "    print(\"GPU is not available or not being used. Using CPU instead.\")"
      ]
    },
    {
      "cell_type": "code",
      "execution_count": 3,
      "metadata": {
        "colab": {
          "base_uri": "https://localhost:8080/"
        },
        "id": "MN96_fK5Plv6",
        "outputId": "fc0d72ef-3090-4287-b2a3-feefcc7beacd"
      },
      "outputs": [
        {
          "output_type": "stream",
          "name": "stdout",
          "text": [
            "tensor([[-0.8923, -0.0583, -0.1955, -0.9656,  0.4224]],\n",
            "       grad_fn=<EmbeddingBackward0>)\n"
          ]
        }
      ],
      "source": [
        "word_to_ix = {\"hello\": 0, \"world\": 1}\n",
        "embeds = nn.Embedding(2, 5)  # 2 words in vocab, 5 dimensional embeddings\n",
        "lookup_tensor = torch.tensor([word_to_ix[\"hello\"]], dtype=torch.long)\n",
        "hello_embed = embeds(lookup_tensor)\n",
        "print(hello_embed)"
      ]
    },
    {
      "cell_type": "markdown",
      "metadata": {
        "id": "l3ecRemdPstX"
      },
      "source": [
        "# An Example: N-Gram Language Modeling\n",
        "\n",
        "Recall that in an n-gram language model, given a sequence of words\n",
        "$w$, we want to compute\n",
        "\n",
        "\\begin{align}P(w_i | w_{i-1}, w_{i-2}, \\dots, w_{i-n+1} )\\end{align}\n",
        "\n",
        "Where $w_i$ is the ith word of the sequence.\n",
        "\n",
        "In this example, we will compute the loss function on some training\n",
        "examples and update the parameters with backpropagation."
      ]
    },
    {
      "cell_type": "code",
      "execution_count": 6,
      "metadata": {
        "colab": {
          "base_uri": "https://localhost:8080/"
        },
        "id": "FbPuck6EPn2x",
        "outputId": "cccd97d1-dc0c-4b77-e3ac-277585eee50b"
      },
      "outputs": [
        {
          "output_type": "stream",
          "name": "stdout",
          "text": [
            "[(['When', 'forty'], 'winters'), (['forty', 'winters'], 'shall'), (['winters', 'shall'], 'besiege')]\n",
            "Loss in Epoch 0: 521.51\n",
            "Loss in Epoch 1: 519.01\n",
            "Loss in Epoch 2: 516.53\n",
            "Loss in Epoch 3: 514.06\n",
            "Loss in Epoch 4: 511.62\n",
            "Loss in Epoch 5: 509.18\n",
            "Loss in Epoch 6: 506.77\n",
            "Loss in Epoch 7: 504.36\n",
            "Loss in Epoch 8: 501.96\n",
            "Loss in Epoch 9: 499.58\n"
          ]
        }
      ],
      "source": [
        "CONTEXT_SIZE = 2\n",
        "EMBEDDING_DIM = 10\n",
        "# We will use Shakespeare Sonnet 2\n",
        "test_sentence = \"\"\"When forty winters shall besiege thy brow,\n",
        "And dig deep trenches in thy beauty's field,\n",
        "Thy youth's proud livery so gazed on now,\n",
        "Will be a totter'd weed of small worth held:\n",
        "Then being asked, where all thy beauty lies,\n",
        "Where all the treasure of thy lusty days;\n",
        "To say, within thine own deep sunken eyes,\n",
        "Were an all-eating shame, and thriftless praise.\n",
        "How much more praise deserv'd thy beauty's use,\n",
        "If thou couldst answer 'This fair child of mine\n",
        "Shall sum my count, and make my old excuse,'\n",
        "Proving his beauty by succession thine!\n",
        "This were to be new made when thou art old,\n",
        "And see thy blood warm when thou feel'st it cold.\"\"\".split()\n",
        "# we should tokenize the input, but we will ignore that for now\n",
        "# build a list of tuples.  Each tuple is ([ word_i-2, word_i-1 ], target word)\n",
        "trigrams = [([test_sentence[i], test_sentence[i + 1]], test_sentence[i + 2])\n",
        "            for i in range(len(test_sentence) - 2)]\n",
        "# print the first 3, just so you can see what they look like\n",
        "print(trigrams[:3])\n",
        "\n",
        "vocab = set(test_sentence)\n",
        "word_to_ix = {word: i for i, word in enumerate(vocab)}\n",
        "\n",
        "\n",
        "class NGramLanguageModeler(nn.Module):\n",
        "\n",
        "    def __init__(self, vocab_size, embedding_dim, context_size):\n",
        "        super(NGramLanguageModeler, self).__init__()\n",
        "        self.embeddings = nn.Embedding(vocab_size, embedding_dim)\n",
        "        self.linear1 = nn.Linear(context_size * embedding_dim, 128)\n",
        "        self.linear2 = nn.Linear(128, vocab_size)\n",
        "\n",
        "    def forward(self, inputs):\n",
        "        embeds = self.embeddings(inputs).view((1, -1))\n",
        "        out = F.relu(self.linear1(embeds))\n",
        "        out = self.linear2(out)\n",
        "        log_probs = F.log_softmax(out, dim=1)\n",
        "        return log_probs\n",
        "\n",
        "\n",
        "losses = []\n",
        "loss_function = nn.NLLLoss() # Negative Log Likelihood Loss\n",
        "model = NGramLanguageModeler(len(vocab), EMBEDDING_DIM, CONTEXT_SIZE)\n",
        "optimizer = optim.SGD(model.parameters(), lr=0.001)\n",
        "\n",
        "for epoch in range(10):\n",
        "    total_loss = 0\n",
        "    for context, target in trigrams:\n",
        "\n",
        "        # Step 1. Prepare the inputs to be passed to the model (i.e, turn the words\n",
        "        # into integer indices and wrap them in tensors)\n",
        "        context_idxs = torch.tensor([word_to_ix[w] for w in context], dtype=torch.long)\n",
        "\n",
        "        # Step 2. Recall that torch *accumulates* gradients. Before passing in a\n",
        "        # new instance, you need to zero out the gradients from the old\n",
        "        # instance\n",
        "        model.zero_grad()\n",
        "\n",
        "        # Step 3. Run the forward pass, getting log probabilities over next\n",
        "        # words\n",
        "        log_probs = model(context_idxs)\n",
        "\n",
        "        # Step 4. Compute your loss function. (Again, Torch wants the target\n",
        "        # word wrapped in a tensor)\n",
        "        loss = loss_function(log_probs, torch.tensor([word_to_ix[target]], dtype=torch.long))\n",
        "\n",
        "        # Step 5. Do the backward pass and update the gradient\n",
        "        loss.backward()\n",
        "        optimizer.step()\n",
        "\n",
        "        # Get the Python number from a 1-element Tensor by calling tensor.item()\n",
        "        total_loss += loss.item()\n",
        "    print(\"Loss in Epoch {ep}: {l}\".format(ep=epoch, l=np.round(total_loss, 2))) # The loss decreased every iteration over the training data!\n",
        "    losses.append(total_loss)"
      ]
    },
    {
      "cell_type": "markdown",
      "metadata": {
        "id": "7fV7zUnlz7xp"
      },
      "source": [
        "# Exercise: Computing Word Embeddings: Continuous Bag-of-Words\n",
        "\n",
        "The Continuous Bag-of-Words model (CBOW) is frequently used in NLP deep\n",
        "learning. It is a model that tries to predict words given the context of\n",
        "a few words before and a few words after the target word. This is\n",
        "distinct from language modeling, since CBOW is not sequential and does\n",
        "not have to be probabilistic. Typcially, CBOW is used to quickly train\n",
        "word embeddings, and these embeddings are used to initialize the\n",
        "embeddings of some more complicated model. Usually, this is referred to\n",
        "as *pretraining embeddings*. It almost always helps performance a couple\n",
        "of percent.\n",
        "\n",
        "The CBOW model is as follows. Given a target word $w_i$ and an\n",
        "$N$ context window on each side, $w_{i-1}, \\dots, w_{i-N}$\n",
        "and $w_{i+1}, \\dots, w_{i+N}$, referring to all context words\n",
        "collectively as $C$, CBOW tries to minimize\n",
        "\n",
        "\\begin{align}-\\log p(w_i | C) = -\\log \\text{Softmax}(A(\\sum_{w \\in C} q_w) + b)\\end{align}\n",
        "\n",
        "where $q_w$ is the embedding for word $w$.\n"
      ]
    },
    {
      "cell_type": "markdown",
      "metadata": {
        "id": "Pj_2_qqM7Md_"
      },
      "source": [
        "## Exercise Layout\n",
        "### 1. <u>Training CBOW Embeddings</u>\n",
        "1.1) Implement a CBOW Model by completing ```class CBOW(nn.Module)``` and train it on ```raw_text```.    \n",
        "\n",
        "1.2) Load Datasets ```tripadvisor_hotel_reviews_reduced.csv``` and ```scifi_reduced.txt```.     \n",
        "\n",
        "1.3) Decide preprocessing steps by completing the function ```def custom_preprocess()```. Describe your decisions. Note that it's your choice to create different preprocessing functions for hotel reviews and scifi datasets or use the same preprocessing function.             \n",
        "\n",
        "1.4) Train CBOW2 with a context width of 2 (in both directions) for the Hotel Reviews dataset.   \n",
        "\n",
        "1.5) Train CBOW5 with a context width of 5 (in both directions) for the Hotel Reviews dataset. Are predictions made by the model sensitive towards the context size?\n",
        "     \n",
        "1.6) Train CBOW2 with a context width of 2 (in both directions) for the Sci-Fi story dataset.  \n",
        "\n",
        "\n",
        "### 2. <u>Test your Embeddings</u>\n",
        "Note - Do the following for CBOW2, and optionally for CBOW5\n",
        "\n",
        "2.1) For the hotel reviews dataset, choose 3 nouns, 3 verbs, and 3 adjectives. Make sure that some nouns/verbs/adjectives occur frequently in the corpus and that others are rare. For each of the 9 chosen words, retrieve the 5 closest words according to your trained CBOW2 model. List them in your report and comment on the performance of your model: do the neighbours the model provides make sense? Discuss.   \n",
        "\n",
        "2.2) Do the same for Sci-Fi dataset.   \n",
        "\n",
        "2.3) How does the quality of the hotel review-based embeddings compare with the Sci-fi-based embeddings? Elaborate.   \n",
        "\n",
        "2.4) Choose 2 words and retrieve their 5 closest neighbours according to hotel review-based embeddings and the Sci-fi-based embeddings. Do they have different neighbours? If yes, can you reason why?    \n",
        "\n",
        "2.5) What are the differences between CBOW2 and CBOW5 ? Can you \"describe\" them?   \n"
      ]
    },
    {
      "cell_type": "markdown",
      "source": [],
      "metadata": {
        "id": "QilE6taDTsKe"
      }
    },
    {
      "cell_type": "markdown",
      "metadata": {
        "id": "Xvo1QvEf-iT2"
      },
      "source": [
        "### Tips\n",
        "\n",
        "1. Switch from CPU to a GPU instance after you have confirmed that your training procedure is working correctly.\n",
        "2. You can always save your intermediate results (embeddings, preprocessed dataset, model, etc.) in your google drive via colab\n"
      ]
    },
    {
      "cell_type": "markdown",
      "metadata": {
        "id": "vfG8j2JiRMly"
      },
      "source": [
        "\n",
        "### 1.1 Create a CBOW Model by completing ```class CBOW(nn.Module)``` and test it on ```raw_text```\n",
        "Implement CBOW in Pytorch by filling in the class below. Some\n",
        "tips:\n",
        "\n",
        "* Think about which parameters you need to define.\n",
        "* Make sure you know what shape each operation expects. Use .view() if you need to\n",
        "  reshape."
      ]
    },
    {
      "cell_type": "code",
      "execution_count": 7,
      "metadata": {
        "colab": {
          "base_uri": "https://localhost:8080/"
        },
        "id": "YD26-qBLPxU8",
        "outputId": "2a45ebf4-6402-4bc5-99a1-253dbae7f2e9"
      },
      "outputs": [
        {
          "output_type": "stream",
          "name": "stdout",
          "text": [
            "[(['We', 'are', 'to', 'study'], 'about'), (['are', 'about', 'study', 'the'], 'to'), (['about', 'to', 'the', 'idea'], 'study'), (['to', 'study', 'idea', 'of'], 'the'), (['study', 'the', 'of', 'a'], 'idea')]\n"
          ]
        },
        {
          "output_type": "execute_result",
          "data": {
            "text/plain": [
              "tensor([19, 41, 33, 24])"
            ]
          },
          "metadata": {},
          "execution_count": 7
        }
      ],
      "source": [
        "CONTEXT_SIZE = 2  # 2 words to the left, 2 to the right\n",
        "raw_text = \"\"\"We are about to study the idea of a computational process.\n",
        "Computational processes are abstract beings that inhabit computers.\n",
        "As they evolve, processes manipulate other abstract things called data.\n",
        "The evolution of a process is directed by a pattern of rules\n",
        "called a program. People create programs to direct processes. In effect,\n",
        "we conjure the spirits of the computer with our spells.\"\"\".split()\n",
        "\n",
        "# By deriving a set from `raw_text`, we deduplicate the array\n",
        "vocab = set(raw_text)\n",
        "vocab_size = len(vocab)\n",
        "\n",
        "word_to_ix = {word: i for i, word in enumerate(vocab)}\n",
        "\n",
        "#ix_to_word = {ix: word for i, word in enumerate(vocab)}\n",
        "\n",
        "data = []\n",
        "for i in range(2, len(raw_text) - 2):\n",
        "    context = [raw_text[i - 2], raw_text[i - 1],\n",
        "               raw_text[i + 1], raw_text[i + 2]]\n",
        "    target = raw_text[i]\n",
        "    data.append((context, target))\n",
        "print(data[:5])\n",
        "\n",
        "\n",
        "class CBOW(nn.Module):\n",
        "    def __init__(self, vocab_size, embedding_dim):\n",
        "        super(CBOW, self).__init__()\n",
        "\n",
        "        self.embeddings = nn.Embedding(vocab_size, embedding_dim)\n",
        "\n",
        "        self.linear1 = nn.Linear(embedding_dim, vocab_size)\n",
        "        #self.linear2 = nn.Linear(128, vocab_size)\n",
        "        self.activation_fn = nn.LogSoftmax(dim=-1)\n",
        "\n",
        "\n",
        "    def forward(self, inputs):\n",
        "        embeds = self.embeddings(inputs)\n",
        "        #embeds = embeds.view(1, -1)\n",
        "        embeds = torch.mean(embeds, dim=0).view(1, -1)\n",
        "\n",
        "        z = self.linear1(embeds)\n",
        "        out = self.activation_fn(z)\n",
        "        return out\n",
        "\n",
        "    def get_word_embedding(self, word):\n",
        "        word = torch.tensor([word_to_ix[word]], dtype=torch.long)\n",
        "        return self.embeddings(word).view(1, -1)\n",
        "        \"\"\"embeds = torch.sum(embeds, dim=0)\n",
        "        out = self.linear1(embeds)\n",
        "        out = self.activation_fn(out)\n",
        "        return out\n",
        "        pass\"\"\"\n",
        "\n",
        "# create your model and train.  here are some functions to help you make\n",
        "# the data ready for use by your module\n",
        "\n",
        "\n",
        "def make_context_vector(context, word_to_ix):\n",
        "    idxs = [word_to_ix[w] for w in context]\n",
        "    return torch.tensor(idxs, dtype=torch.long)\n",
        "\n",
        "\n",
        "make_context_vector(data[0][0], word_to_ix)  # example"
      ]
    },
    {
      "cell_type": "code",
      "execution_count": 8,
      "metadata": {
        "colab": {
          "base_uri": "https://localhost:8080/"
        },
        "id": "beFAt3sp6dho",
        "outputId": "18377bbf-c98d-438a-dd36-5f6668d909a9"
      },
      "outputs": [
        {
          "output_type": "stream",
          "name": "stdout",
          "text": [
            "Loss in Epoch 0: 229.21\n",
            "Loss in Epoch 1: 151.66\n",
            "Loss in Epoch 2: 59.47\n",
            "Loss in Epoch 3: 12.67\n",
            "Loss in Epoch 4: 3.22\n",
            "Loss in Epoch 5: 1.24\n",
            "Loss in Epoch 6: 0.44\n",
            "Loss in Epoch 7: 0.21\n",
            "Loss in Epoch 8: 0.14\n",
            "Loss in Epoch 9: 0.1\n"
          ]
        }
      ],
      "source": [
        "model =  CBOW(vocab_size, embedding_dim = 100)\n",
        "loss_function = nn.NLLLoss()\n",
        "optimizer = optim.SGD(model.parameters(), lr=0.001)\n",
        "model.to(device)\n",
        "\n",
        "\n",
        "for epoch in range(10):\n",
        "    total_loss = 0\n",
        "    for context, target in data:\n",
        "        context_vector = make_context_vector(context, word_to_ix)\n",
        "        context_vector = context_vector.to(device)\n",
        "        out = model(context_vector)\n",
        "\n",
        "        loss = loss_function(out, torch.tensor([word_to_ix[target]], dtype=torch.long, device = device) )\n",
        "        total_loss += loss.item()\n",
        "\n",
        "        #model.zero_grad()\n",
        "        #optimizer.zero_grad()\n",
        "        #loss = loss_function(out, torch.tensor([word_to_ix[target]], dtype=torch.long))\n",
        "        loss.backward()\n",
        "        optimizer.step()\n",
        "\n",
        "    print(\"Loss in Epoch {ep}: {l}\".format(ep=epoch, l=np.round(total_loss, 2))) # The loss decreased every iteration over the training data!\n",
        "    #"
      ]
    },
    {
      "cell_type": "code",
      "source": [],
      "metadata": {
        "id": "d1tRfYvx-S5B"
      },
      "execution_count": null,
      "outputs": []
    },
    {
      "cell_type": "markdown",
      "metadata": {
        "id": "9NbVpFkR77uv"
      },
      "source": [
        "### 1.2 Load Datasets"
      ]
    },
    {
      "cell_type": "code",
      "execution_count": 4,
      "metadata": {
        "colab": {
          "base_uri": "https://localhost:8080/"
        },
        "id": "i4XpJnxV79rK",
        "outputId": "0a34b51e-07a2-40d9-f4f8-cc40bdf3c403"
      },
      "outputs": [
        {
          "output_type": "stream",
          "name": "stdout",
          "text": [
            "Downloading...\n",
            "From: https://drive.google.com/uc?id=1foE1JuZJeu5E_4qVge9kExzhvF32teuF\n",
            "To: /content/tripadvisor_hotel_reviews_reduced.csv\n",
            "100% 7.36M/7.36M [00:00<00:00, 49.1MB/s]\n",
            "Downloading...\n",
            "From: https://drive.google.com/uc?id=13IWXrTjGTrfCd9l7dScZVO8ZvMicPU75\n",
            "To: /content/scifi_reduced.txt\n",
            "100% 43.1M/43.1M [00:00<00:00, 127MB/s]\n"
          ]
        }
      ],
      "source": [
        "### Load Datasets tripadvisor_hotel_reviews_reduced.csv and scifi_reduced.txt\n",
        "\n",
        "!gdown 1foE1JuZJeu5E_4qVge9kExzhvF32teuF # For Hotel Reviews\n",
        "!gdown 13IWXrTjGTrfCd9l7dScZVO8ZvMicPU75 # For Scifi-Text"
      ]
    },
    {
      "cell_type": "code",
      "execution_count": 10,
      "metadata": {
        "collapsed": true,
        "id": "GDugXkb7CmQQ"
      },
      "outputs": [],
      "source": [
        "#open(\"tripadvisor_hotel_reviews_reduced.csv\", \"r\").read()"
      ]
    },
    {
      "cell_type": "markdown",
      "metadata": {
        "id": "F9AUsLd78JVv"
      },
      "source": [
        "### 1.3 Preprocess Datasets\n",
        "### 🗒❓ Describe your decisions for preprocessing the datasets"
      ]
    },
    {
      "cell_type": "code",
      "execution_count": 5,
      "metadata": {
        "colab": {
          "base_uri": "https://localhost:8080/"
        },
        "id": "9AEF16-v9Erc",
        "outputId": "88bcdd7e-031d-4530-dd34-e8a0a32d36bb"
      },
      "outputs": [
        {
          "output_type": "stream",
          "name": "stderr",
          "text": [
            "[nltk_data] Downloading package punkt to /root/nltk_data...\n",
            "[nltk_data]   Unzipping tokenizers/punkt.zip.\n",
            "[nltk_data] Downloading package stopwords to /root/nltk_data...\n",
            "[nltk_data]   Unzipping corpora/stopwords.zip.\n",
            "[nltk_data] Downloading package wordnet to /root/nltk_data...\n"
          ]
        },
        {
          "output_type": "stream",
          "name": "stdout",
          "text": [
            "1023892\n",
            "3954325\n"
          ]
        }
      ],
      "source": [
        "### Complete the preprocessing function and apply it to the datasets\n",
        "\n",
        "import nltk\n",
        "from nltk.corpus import stopwords\n",
        "from nltk.tokenize import word_tokenize\n",
        "from nltk.stem import WordNetLemmatizer\n",
        "\n",
        "nltk.download('punkt')\n",
        "nltk.download('stopwords')\n",
        "nltk.download('wordnet')\n",
        "\n",
        "\n",
        "def custom_preprocess(text, is_sci_fi=False):\n",
        "    text = text.lower()\n",
        "    text = \"\".join([char for char in text if char.isalnum() or char.isspace()]) #remove punctuation\n",
        "    tokens = word_tokenize(text)\n",
        "    stop_words = set(stopwords.words('english'))\n",
        "    if is_sci_fi:\n",
        "        # Add custom sci-fi stop words\n",
        "        stop_words.update([\"spaceship\", \"planet\", \"alien\"])\n",
        "    tokens = [token for token in tokens if token not in stop_words]\n",
        "    lemmatizer = WordNetLemmatizer()\n",
        "    tokens = [lemmatizer.lemmatize(token) for token in tokens]\n",
        "    return tokens\n",
        "\n",
        "\n",
        "\n",
        "hotel_reviews = open(\"tripadvisor_hotel_reviews_reduced.csv\", \"r\").read()\n",
        "sci_fi_story = open(\"scifi_reduced.txt\", \"r\").read()\n",
        "\n",
        "hotel_reviews_processed = custom_preprocess(hotel_reviews)\n",
        "sci_fi_story_processed = custom_preprocess(sci_fi_story, is_sci_fi=True)\n",
        "\n",
        "print(len(hotel_reviews_processed))\n",
        "print(len(sci_fi_story_processed))\n"
      ]
    },
    {
      "cell_type": "code",
      "execution_count": 6,
      "metadata": {
        "colab": {
          "base_uri": "https://localhost:8080/"
        },
        "id": "vkkUvrZXHu8K",
        "outputId": "6af3a850-4bf0-4105-c32b-a1eeba32ac57"
      },
      "outputs": [
        {
          "output_type": "stream",
          "name": "stdout",
          "text": [
            "49050\n",
            "[(['reviewrating', 'fantastic', 'large', 'hotel'], 'service'), (['fantastic', 'service', 'hotel', 'caters'], 'large'), (['service', 'large', 'caters', 'business'], 'hotel'), (['large', 'hotel', 'business', 'corporates'], 'caters'), (['hotel', 'caters', 'corporates', 'serve'], 'business')]\n",
            "[(['reviewrating', 'fantastic', 'service', 'large', 'hotel', 'business', 'corporates', 'serve', 'provided', 'better'], 'caters'), (['fantastic', 'service', 'large', 'hotel', 'caters', 'corporates', 'serve', 'provided', 'better', 'wife'], 'business'), (['service', 'large', 'hotel', 'caters', 'business', 'serve', 'provided', 'better', 'wife', 'experienced'], 'corporates'), (['large', 'hotel', 'caters', 'business', 'corporates', 'provided', 'better', 'wife', 'experienced', 'nothing'], 'serve'), (['hotel', 'caters', 'business', 'corporates', 'serve', 'better', 'wife', 'experienced', 'nothing', 'short'], 'provided')]\n",
            "1023882\n"
          ]
        }
      ],
      "source": [
        "vocab1 = set(hotel_reviews_processed)\n",
        "\n",
        "vocab_size1 = len(vocab1)\n",
        "print(vocab_size1)\n",
        "\n",
        "word_to_ix = {word: i for i, word in enumerate(vocab1)}\n",
        "\n",
        "#ix_to_word = {ix: word for i, word in enumerate(vocab)}\n",
        "\n",
        "data2 = []\n",
        "for i in range(2, len(hotel_reviews_processed) - 2):\n",
        "    context2 = [hotel_reviews_processed[i - 2], hotel_reviews_processed[i - 1],\n",
        "               hotel_reviews_processed[i + 1], hotel_reviews_processed[i + 2]]\n",
        "    target2 = hotel_reviews_processed[i]\n",
        "    data2.append((context2, target2))\n",
        "print(data2[:5])\n",
        "\n",
        "data5 = []\n",
        "for j in range(5, len(hotel_reviews_processed) - 5):\n",
        "    context5 = [hotel_reviews_processed[j - 5], hotel_reviews_processed[j - 4], hotel_reviews_processed[j - 3], hotel_reviews_processed[j - 2], hotel_reviews_processed[j - 1],\n",
        "               hotel_reviews_processed[j + 1], hotel_reviews_processed[j + 2], hotel_reviews_processed[j + 3], hotel_reviews_processed[j + 4], hotel_reviews_processed[j + 5]]\n",
        "    target5 = hotel_reviews_processed[j]\n",
        "    data5.append((context5, target5))\n",
        "print(data5[:5])\n",
        "\n",
        "\n",
        "\n",
        "datatest2 = data2[0:10000]\n",
        "datatest5 = data5[0:10000]\n",
        "\n",
        "print(len(data5))\n"
      ]
    },
    {
      "cell_type": "markdown",
      "metadata": {
        "id": "5UEHh3zP9nUn"
      },
      "source": [
        "### 1.4 Train CBOW2 with a context width of 2 (in both directions) for the Hotel Reviews dataset."
      ]
    },
    {
      "cell_type": "code",
      "source": [
        "import torch\n",
        "import torch.nn as nn\n",
        "import torch.nn.functional as F\n",
        "import torch.optim as optim\n",
        "import numpy as np\n",
        "\n",
        "class CBOW2(nn.Module):\n",
        "    def __init__(self, vocab_size, embedding_dim, context_size):\n",
        "        super(CBOW2, self).__init__()\n",
        "        self.embeddings = nn.Embedding(vocab_size, embedding_dim)\n",
        "        self.linear1 = nn.Linear(embedding_dim, 128) # Modified: Input size should match embedding_dim\n",
        "        self.dropout = nn.Dropout(0.25)  # Dropout layer for regularization\n",
        "        self.activation_fn = nn.ReLU()  # Activation function (ReLU in this case)\n",
        "        self.linear2 = nn.Linear(128, vocab_size)\n",
        "        self.context_size = context_size\n",
        "    def forward(self, inputs):\n",
        "        embeds = self.embeddings(inputs)\n",
        "        #print(f\"embeds shape: {embeds.shape}\") #DEBUG\n",
        "        embeds = torch.mean(embeds, dim=1).view(inputs.shape[0], -1) # take mean on the context, keep batch dim\n",
        "        #print(f\"embeds shape: {embeds.shape}\") #DEBUG\n",
        "        embeds = self.dropout(embeds)\n",
        "        #print(f\"embeds shape: {embeds.shape}\") #DEBUG\n",
        "        out = self.linear1(embeds)\n",
        "        #print(f\"out shape: {out.shape}\") #DEBUG\n",
        "        out = self.activation_fn(out)\n",
        "        #print(f\"out shape: {out.shape}\") #DEBUG\n",
        "        out = self.linear2(out)\n",
        "        #print(f\"out shape: {out.shape}\") #DEBUG\n",
        "        log_probs = F.log_softmax(out, dim=-1)\n",
        "        return log_probs\n",
        "\n",
        "\n",
        "    def get_word_embedding(self, word):\n",
        "        word = torch.tensor([word_to_ix[word]], dtype=torch.long).to(device)\n",
        "        return self.embeddings(word).view(1, -1)\n",
        "\n",
        "def make_context_vector(context, word_to_ix, context_size):\n",
        "    idxs = [word_to_ix[w] for w in context]\n",
        "    return torch.tensor(idxs, dtype=torch.long).to(device)\n"
      ],
      "metadata": {
        "id": "JUbsEh2XEYt7"
      },
      "execution_count": 7,
      "outputs": []
    },
    {
      "cell_type": "markdown",
      "source": [],
      "metadata": {
        "id": "2MHlE0mrU5me"
      }
    },
    {
      "cell_type": "code",
      "execution_count": 19,
      "metadata": {
        "id": "qwCnFZgGt-jU"
      },
      "outputs": [],
      "source": [
        "#model.to(device)"
      ]
    },
    {
      "cell_type": "code",
      "source": [
        "import os\n",
        "import torch\n",
        "from torch.utils.data import DataLoader, TensorDataset\n",
        "from torch.optim.lr_scheduler import ReduceLROnPlateau\n",
        "\n",
        "# Set CUDA launch blocking for debugging\n",
        "os.environ['CUDA_LAUNCH_BLOCKING'] = \"1\"\n",
        "\n",
        "# Check CUDA availability\n",
        "print(f\"CUDA Available: {torch.cuda.is_available()}\")\n",
        "print(f\"Current Device: {torch.cuda.current_device()}\")\n",
        "print(f\"Device Count: {torch.cuda.device_count()}\")\n",
        "if torch.cuda.is_available():\n",
        "    print(f\"Device Name: {torch.cuda.get_device_name(0)}\")\n",
        "\n",
        "# Clear CUDA cache\n",
        "torch.cuda.empty_cache()\n",
        "\n",
        "# 1. Model Initialization\n",
        "model1 = CBOW2(vocab_size1, embedding_dim=50, context_size=2)  # Added context_size\n",
        "model1.to(device)  # Move model to the appropriate device (CPU or GPU)\n",
        "\n",
        "# 2. Loss Function and Optimizer Setup\n",
        "loss_func = torch.nn.NLLLoss()\n",
        "optimizer = optim.Adam(model1.parameters(), lr=0.001)\n",
        "#optimizer = optim.SGD(model1.parameters(), lr=0.01, momentum=0.9)\n",
        "\n",
        "\n",
        "scheduler = ReduceLROnPlateau(optimizer, mode='min', factor=0.5, patience=1)\n",
        "\n",
        "# 3. Prepare Data for DataLoader (Modified)\n",
        "# Instead of creating large tensors upfront, we will create them in batches within the loop\n",
        "# This reduces the memory footprint\n",
        "\n",
        "# 4. Training Loop (Modified)\n",
        "for epoch in range(30):\n",
        "    total_loss = 0\n",
        "    for i in range(0, len(data2), 128): # Iterate in batches of 128\n",
        "        context_batch = []\n",
        "        target_batch = []\n",
        "        for context2, target2 in data2[i:i+128]: # Get data for current batch\n",
        "            context_vector = make_context_vector(context2, word_to_ix, 2)\n",
        "            context_batch.append(context_vector)\n",
        "            target_batch.append(word_to_ix[target2])\n",
        "\n",
        "        # Convert to tensors for current batch\n",
        "        context_batch = torch.stack(context_batch).to(device)\n",
        "        target_batch = torch.tensor(target_batch, device=device) # Create tensor directly on device\n",
        "\n",
        "        optimizer.zero_grad()\n",
        "        out = model1(context_batch)\n",
        "        loss = loss_func(out, target_batch)\n",
        "        total_loss += loss.item()\n",
        "        loss.backward()\n",
        "        torch.nn.utils.clip_grad_norm_(model1.parameters(), max_norm=1.0) #gradient clipping\n",
        "        optimizer.step()\n",
        "\n",
        "    avg_loss = total_loss / (len(data2) // 128 + (len(data2) % 128 > 0)) # Adjust for incomplete batches\n",
        "\n",
        "    scheduler.step(avg_loss)  #printing the learning rates to know which one is optimal - scheduler stuff for each epoch\n",
        "    current_lr = scheduler.optimizer.param_groups[0]['lr']\n",
        "\n",
        "    print(f\"Loss in Epoch {epoch}: {np.round(total_loss, 2)}, avg_loss {np.round(avg_loss, 5)}, Learning rate after Epoch {epoch}: {current_lr}\")\n",
        "\n",
        "\n",
        "\n",
        "\n",
        "\n",
        "\n",
        ""
      ],
      "metadata": {
        "colab": {
          "base_uri": "https://localhost:8080/"
        },
        "id": "40OrqiGhCFwT",
        "outputId": "033d873a-9193-4e9b-d907-de6071c3d89a"
      },
      "execution_count": 8,
      "outputs": [
        {
          "output_type": "stream",
          "name": "stdout",
          "text": [
            "CUDA Available: True\n",
            "Current Device: 0\n",
            "Device Count: 1\n",
            "Device Name: Tesla T4\n",
            "Loss in Epoch 0: 61792.65, avg_loss 7.72408, Learning rate after Epoch 0: 0.001\n",
            "Loss in Epoch 1: 58012.45, avg_loss 7.25156, Learning rate after Epoch 1: 0.001\n",
            "Loss in Epoch 2: 56359.65, avg_loss 7.04496, Learning rate after Epoch 2: 0.001\n",
            "Loss in Epoch 3: 55343.88, avg_loss 6.91799, Learning rate after Epoch 3: 0.001\n",
            "Loss in Epoch 4: 54615.16, avg_loss 6.8269, Learning rate after Epoch 4: 0.001\n",
            "Loss in Epoch 5: 54092.71, avg_loss 6.76159, Learning rate after Epoch 5: 0.001\n",
            "Loss in Epoch 6: 53713.82, avg_loss 6.71423, Learning rate after Epoch 6: 0.001\n",
            "Loss in Epoch 7: 53378.58, avg_loss 6.67232, Learning rate after Epoch 7: 0.001\n",
            "Loss in Epoch 8: 53131.35, avg_loss 6.64142, Learning rate after Epoch 8: 0.001\n",
            "Loss in Epoch 9: 52919.96, avg_loss 6.61499, Learning rate after Epoch 9: 0.001\n",
            "Loss in Epoch 10: 52752.15, avg_loss 6.59402, Learning rate after Epoch 10: 0.001\n",
            "Loss in Epoch 11: 52604.93, avg_loss 6.57562, Learning rate after Epoch 11: 0.001\n",
            "Loss in Epoch 12: 52449.43, avg_loss 6.55618, Learning rate after Epoch 12: 0.001\n",
            "Loss in Epoch 13: 52336.44, avg_loss 6.54205, Learning rate after Epoch 13: 0.001\n",
            "Loss in Epoch 14: 52260.68, avg_loss 6.53258, Learning rate after Epoch 14: 0.001\n",
            "Loss in Epoch 15: 52148.39, avg_loss 6.51855, Learning rate after Epoch 15: 0.001\n",
            "Loss in Epoch 16: 52056.12, avg_loss 6.50701, Learning rate after Epoch 16: 0.001\n",
            "Loss in Epoch 17: 51999.3, avg_loss 6.49991, Learning rate after Epoch 17: 0.001\n",
            "Loss in Epoch 18: 51916.78, avg_loss 6.4896, Learning rate after Epoch 18: 0.001\n",
            "Loss in Epoch 19: 51845.82, avg_loss 6.48073, Learning rate after Epoch 19: 0.001\n",
            "Loss in Epoch 20: 51775.55, avg_loss 6.47194, Learning rate after Epoch 20: 0.001\n",
            "Loss in Epoch 21: 51702.92, avg_loss 6.46287, Learning rate after Epoch 21: 0.001\n",
            "Loss in Epoch 22: 51637.55, avg_loss 6.45469, Learning rate after Epoch 22: 0.001\n",
            "Loss in Epoch 23: 51590.71, avg_loss 6.44884, Learning rate after Epoch 23: 0.001\n",
            "Loss in Epoch 24: 51523.26, avg_loss 6.44041, Learning rate after Epoch 24: 0.001\n",
            "Loss in Epoch 25: 51480.87, avg_loss 6.43511, Learning rate after Epoch 25: 0.001\n",
            "Loss in Epoch 26: 51419.94, avg_loss 6.42749, Learning rate after Epoch 26: 0.001\n",
            "Loss in Epoch 27: 51381.73, avg_loss 6.42272, Learning rate after Epoch 27: 0.001\n",
            "Loss in Epoch 28: 51336.27, avg_loss 6.41703, Learning rate after Epoch 28: 0.001\n",
            "Loss in Epoch 29: 51301.98, avg_loss 6.41275, Learning rate after Epoch 29: 0.001\n"
          ]
        }
      ]
    },
    {
      "cell_type": "code",
      "source": [
        "import os\n",
        "import torch\n",
        "from torch.utils.data import DataLoader, TensorDataset\n",
        "from torch.optim.lr_scheduler import ReduceLROnPlateau\n",
        "from torch.optim.lr_scheduler import StepLR\n",
        "from torch.optim.lr_scheduler import CosineAnnealingLR, LinearLR, SequentialLR, OneCycleLR\n",
        "\n",
        "model1 = CBOW2(vocab_size1, embedding_dim=50, context_size=2)  # Added context_size\n",
        "model1.to(device)  # Move model to the appropriate device (CPU or GPU)\n",
        "\n",
        "# 2. Loss Function and Optimizer Setup\n",
        "loss_func = torch.nn.NLLLoss()\n",
        "\n",
        "\n",
        "# Initial high learning rate with gradual warm-up and cosine annealing\n",
        "optimizer = optim.Adam(model1.parameters(), lr=0.001)\n",
        "\n",
        "# Sequential scheduler: Linear warm-up followed by CosineAnnealing\n",
        "scheduler = torch.optim.lr_scheduler.OneCycleLR(\n",
        "    optimizer, max_lr=0.005, steps_per_epoch=len(data2) // 128, epochs=30\n",
        ")\n",
        "\n",
        "# 3. Prepare Data for DataLoader (Modified)\n",
        "# Instead of creating large tensors upfront, we will create them in batches within the loop\n",
        "# This reduces the memory footprint\n",
        "\n",
        "# 4. Training Loop (Modified)\n",
        "for epoch in range(30):\n",
        "    total_loss = 0\n",
        "    for i in range(0, len(data2), 128): # Iterate in batches of 128\n",
        "        context_batch = []\n",
        "        target_batch = []\n",
        "        for context2, target2 in data2[i:i+128]: # Get data for current batch\n",
        "            context_vector = make_context_vector(context2, word_to_ix, 2)\n",
        "            context_batch.append(context_vector)\n",
        "            target_batch.append(word_to_ix[target2])\n",
        "\n",
        "        # Convert to tensors for current batch\n",
        "        context_batch = torch.stack(context_batch).to(device)\n",
        "        target_batch = torch.tensor(target_batch, device=device) # Create tensor directly on device\n",
        "\n",
        "        optimizer.zero_grad()\n",
        "        out = model1(context_batch)\n",
        "        loss = loss_func(out, target_batch)\n",
        "        total_loss += loss.item()\n",
        "        loss.backward()\n",
        "        torch.nn.utils.clip_grad_norm_(model1.parameters(), max_norm=1.0) #gradient clipping\n",
        "        optimizer.step()\n",
        "\n",
        "    avg_loss = total_loss / (len(data2) // 128 + (len(data2) % 128 > 0))\n",
        "    print(f\"Loss in Epoch {epoch}: {np.round(total_loss, 2)}, Average loss {np.round(avg_loss, 5)}\")\n",
        "\n",
        "    print(f\"Lr before stepping: {optimizer.param_groups[0]['lr']}\")\n",
        "    scheduler.step()\n",
        "    current_lr = optimizer.param_groups[0]['lr']\n",
        "    print(f\"Learning rate after Epoch {epoch}: {current_lr}\")\n"
      ],
      "metadata": {
        "colab": {
          "base_uri": "https://localhost:8080/"
        },
        "id": "fBn6fNOqTfpC",
        "outputId": "73a5c9b0-717c-4034-e2d6-5d225019d447"
      },
      "execution_count": 13,
      "outputs": [
        {
          "output_type": "stream",
          "name": "stdout",
          "text": [
            "Loss in Epoch 0: 62913.52, Average loss 7.86419\n",
            "Lr before stepping: 0.00019999999999999966\n",
            "Learning rate after Epoch 0: 0.00020000000228526538\n",
            "Loss in Epoch 1: 59631.74, Average loss 7.45397\n",
            "Lr before stepping: 0.00020000000228526538\n",
            "Learning rate after Epoch 1: 0.00020000000914106083\n",
            "Loss in Epoch 2: 58422.03, Average loss 7.30275\n",
            "Lr before stepping: 0.00020000000914106083\n",
            "Learning rate after Epoch 2: 0.0002000000205673886\n",
            "Loss in Epoch 3: 57476.16, Average loss 7.18452\n",
            "Lr before stepping: 0.0002000000205673886\n",
            "Learning rate after Epoch 3: 0.00020000003656424608\n",
            "Loss in Epoch 4: 56714.86, Average loss 7.08936\n",
            "Lr before stepping: 0.00020000003656424608\n",
            "Learning rate after Epoch 4: 0.00020000005713163415\n",
            "Loss in Epoch 5: 56080.99, Average loss 7.01012\n",
            "Lr before stepping: 0.00020000005713163415\n",
            "Learning rate after Epoch 5: 0.00020000008226955367\n",
            "Loss in Epoch 6: 55540.93, Average loss 6.94262\n",
            "Lr before stepping: 0.00020000008226955367\n",
            "Learning rate after Epoch 6: 0.00020000011197800292\n",
            "Loss in Epoch 7: 55081.88, Average loss 6.88523\n",
            "Lr before stepping: 0.00020000011197800292\n",
            "Learning rate after Epoch 7: 0.0002000001462569836\n",
            "Loss in Epoch 8: 54693.15, Average loss 6.83664\n",
            "Lr before stepping: 0.0002000001462569836\n",
            "Learning rate after Epoch 8: 0.0002000001851064949\n",
            "Loss in Epoch 9: 54349.43, Average loss 6.79368\n",
            "Lr before stepping: 0.0002000001851064949\n",
            "Learning rate after Epoch 9: 0.0002000002285265359\n",
            "Loss in Epoch 10: 54058.17, Average loss 6.75727\n",
            "Lr before stepping: 0.0002000002285265359\n",
            "Learning rate after Epoch 10: 0.00020000027651710748\n",
            "Loss in Epoch 11: 53794.36, Average loss 6.7243\n",
            "Lr before stepping: 0.00020000027651710748\n",
            "Learning rate after Epoch 11: 0.00020000032907820965\n",
            "Loss in Epoch 12: 53550.27, Average loss 6.69378\n",
            "Lr before stepping: 0.00020000032907820965\n",
            "Learning rate after Epoch 12: 0.00020000038620984154\n",
            "Loss in Epoch 13: 53348.85, Average loss 6.66861\n",
            "Lr before stepping: 0.00020000038620984154\n",
            "Learning rate after Epoch 13: 0.00020000044791200402\n",
            "Loss in Epoch 14: 53171.12, Average loss 6.64639\n",
            "Lr before stepping: 0.00020000044791200402\n",
            "Learning rate after Epoch 14: 0.00020000051418469621\n",
            "Loss in Epoch 15: 52996.88, Average loss 6.62461\n",
            "Lr before stepping: 0.00020000051418469621\n",
            "Learning rate after Epoch 15: 0.00020000058502791813\n",
            "Loss in Epoch 16: 52843.89, Average loss 6.60549\n",
            "Lr before stepping: 0.00020000058502791813\n",
            "Learning rate after Epoch 16: 0.00020000066044166976\n",
            "Loss in Epoch 17: 52707.8, Average loss 6.58847\n",
            "Lr before stepping: 0.00020000066044166976\n",
            "Learning rate after Epoch 17: 0.0002000007404259511\n",
            "Loss in Epoch 18: 52591.81, Average loss 6.57398\n",
            "Lr before stepping: 0.0002000007404259511\n",
            "Learning rate after Epoch 18: 0.00020000082498076218\n",
            "Loss in Epoch 19: 52472.49, Average loss 6.55906\n",
            "Lr before stepping: 0.00020000082498076218\n",
            "Learning rate after Epoch 19: 0.00020000091410610123\n",
            "Loss in Epoch 20: 52372.46, Average loss 6.54656\n",
            "Lr before stepping: 0.00020000091410610123\n",
            "Learning rate after Epoch 20: 0.00020000100780197087\n",
            "Loss in Epoch 21: 52282.01, Average loss 6.53525\n",
            "Lr before stepping: 0.00020000100780197087\n",
            "Learning rate after Epoch 21: 0.0002000011060683685\n",
            "Loss in Epoch 22: 52184.5, Average loss 6.52306\n",
            "Lr before stepping: 0.0002000011060683685\n",
            "Learning rate after Epoch 22: 0.00020000120890529497\n",
            "Loss in Epoch 23: 52104.36, Average loss 6.51304\n",
            "Lr before stepping: 0.00020000120890529497\n",
            "Learning rate after Epoch 23: 0.0002000013163127503\n",
            "Loss in Epoch 24: 52029.7, Average loss 6.50371\n",
            "Lr before stepping: 0.0002000013163127503\n",
            "Learning rate after Epoch 24: 0.0002000014282907336\n",
            "Loss in Epoch 25: 51963.59, Average loss 6.49545\n",
            "Lr before stepping: 0.0002000014282907336\n",
            "Learning rate after Epoch 25: 0.00020000154483924403\n",
            "Loss in Epoch 26: 51883.42, Average loss 6.48543\n",
            "Lr before stepping: 0.00020000154483924403\n",
            "Learning rate after Epoch 26: 0.00020000166595828418\n",
            "Loss in Epoch 27: 51833.78, Average loss 6.47922\n",
            "Lr before stepping: 0.00020000166595828418\n",
            "Learning rate after Epoch 27: 0.00020000179164785057\n",
            "Loss in Epoch 28: 51776.87, Average loss 6.47211\n",
            "Lr before stepping: 0.00020000179164785057\n",
            "Learning rate after Epoch 28: 0.00020000192190794408\n",
            "Loss in Epoch 29: 51721.53, Average loss 6.46519\n",
            "Lr before stepping: 0.00020000192190794408\n",
            "Learning rate after Epoch 29: 0.00020000205673856557\n"
          ]
        }
      ]
    },
    {
      "cell_type": "markdown",
      "metadata": {
        "id": "qn7teyu7987m"
      },
      "source": [
        "### 1.5 Train CBOW5 with a context width of 5 (in both directions) for the Hotel Reviews dataset.  \n",
        "\n",
        "🗒❓ Are predictions made by the model sensitive towards the context size?"
      ]
    },
    {
      "cell_type": "code",
      "source": [
        "model2 = CBOW2(vocab_size1, embedding_dim=50, context_size=5)  # Added context_size\n",
        "model2.to(device)  # Move model to the appropriate device (CPU or GPU)5\n",
        "# 2. Loss Function and Optimizer Setup\n",
        "loss_func = torch.nn.NLLLoss()\n",
        "optimizer = optim.Adam(model2.parameters(), lr=0.001)\n",
        "\n",
        "scheduler = ReduceLROnPlateau(optimizer, mode='min', factor=0.5, patience=1)\n",
        "# 3. Prepare Data for DataLoader (Modified)\n",
        "# Instead of creating large tensors upfront, we will create them in batches within the loop\n",
        "# This reduces the memory footprint\n",
        "\n",
        "# 4. Training Loop (Modified)\n",
        "for epoch in range(30):\n",
        "    total_loss = 0\n",
        "    for i in range(0, len(data5), 128): # Iterate in batches of 128\n",
        "        context_batch = []\n",
        "        target_batch = []\n",
        "        for context5, target5 in data5[i:i+128]: # Get data for current batch\n",
        "            context_vector = make_context_vector(context5, word_to_ix, 5)\n",
        "            context_batch.append(context_vector)\n",
        "            target_batch.append(word_to_ix[target5])\n",
        "\n",
        "        # Convert to tensors for current batch\n",
        "        context_batch = torch.stack(context_batch).to(device)\n",
        "        target_batch = torch.tensor(target_batch, device=device) # Create tensor directly on device\n",
        "\n",
        "        optimizer.zero_grad()\n",
        "        out = model2(context_batch)\n",
        "        loss = loss_func(out, target_batch)\n",
        "        total_loss += loss.item()\n",
        "        loss.backward()\n",
        "        torch.nn.utils.clip_grad_norm_(model2.parameters(), max_norm=1.0) #gradient clipping\n",
        "        optimizer.step()\n",
        "\n",
        "    avg_loss = total_loss / (len(data5) // 128 + (len(data5) % 128 > 0)) # Adjust for incomplete batches\n",
        "    scheduler.step(avg_loss)\n",
        "    current_lr = scheduler.optimizer.param_groups[0]['lr']\n",
        "    print(f\"Loss in Epoch {epoch}: {np.round(total_loss, 2)}, Average loss {np.round(avg_loss, 5)}, Learning rate after Epoch {epoch}: {current_lr}\")\n",
        "\n",
        "\n",
        "\n",
        ""
      ],
      "metadata": {
        "colab": {
          "base_uri": "https://localhost:8080/"
        },
        "id": "dsV_2XvcH_mZ",
        "outputId": "a03de802-6b08-4775-8f83-29a7a786b3af"
      },
      "execution_count": 14,
      "outputs": [
        {
          "output_type": "stream",
          "name": "stdout",
          "text": [
            "Loss in Epoch 0: 61810.11, Average loss 7.72626, Learning rate after Epoch 0: 0.001\n",
            "Loss in Epoch 1: 58303.25, Average loss 7.28791, Learning rate after Epoch 1: 0.001\n",
            "Loss in Epoch 2: 56961.59, Average loss 7.1202, Learning rate after Epoch 2: 0.001\n",
            "Loss in Epoch 3: 56099.93, Average loss 7.01249, Learning rate after Epoch 3: 0.001\n",
            "Loss in Epoch 4: 55497.26, Average loss 6.93716, Learning rate after Epoch 4: 0.001\n",
            "Loss in Epoch 5: 55060.04, Average loss 6.88251, Learning rate after Epoch 5: 0.001\n",
            "Loss in Epoch 6: 54701.7, Average loss 6.83771, Learning rate after Epoch 6: 0.001\n",
            "Loss in Epoch 7: 54433.49, Average loss 6.80419, Learning rate after Epoch 7: 0.001\n",
            "Loss in Epoch 8: 54220.86, Average loss 6.77761, Learning rate after Epoch 8: 0.001\n",
            "Loss in Epoch 9: 54069.0, Average loss 6.75862, Learning rate after Epoch 9: 0.001\n",
            "Loss in Epoch 10: 53935.38, Average loss 6.74192, Learning rate after Epoch 10: 0.001\n",
            "Loss in Epoch 11: 53755.16, Average loss 6.7194, Learning rate after Epoch 11: 0.001\n",
            "Loss in Epoch 12: 53625.8, Average loss 6.70323, Learning rate after Epoch 12: 0.001\n",
            "Loss in Epoch 13: 53498.69, Average loss 6.68734, Learning rate after Epoch 13: 0.001\n",
            "Loss in Epoch 14: 53406.87, Average loss 6.67586, Learning rate after Epoch 14: 0.001\n",
            "Loss in Epoch 15: 53315.11, Average loss 6.66439, Learning rate after Epoch 15: 0.001\n",
            "Loss in Epoch 16: 53239.66, Average loss 6.65496, Learning rate after Epoch 16: 0.001\n",
            "Loss in Epoch 17: 53124.56, Average loss 6.64057, Learning rate after Epoch 17: 0.001\n",
            "Loss in Epoch 18: 53048.78, Average loss 6.6311, Learning rate after Epoch 18: 0.001\n",
            "Loss in Epoch 19: 52959.02, Average loss 6.61988, Learning rate after Epoch 19: 0.001\n",
            "Loss in Epoch 20: 52893.28, Average loss 6.61166, Learning rate after Epoch 20: 0.001\n",
            "Loss in Epoch 21: 52839.86, Average loss 6.60498, Learning rate after Epoch 21: 0.001\n",
            "Loss in Epoch 22: 52778.14, Average loss 6.59727, Learning rate after Epoch 22: 0.001\n",
            "Loss in Epoch 23: 52698.02, Average loss 6.58725, Learning rate after Epoch 23: 0.001\n",
            "Loss in Epoch 24: 52654.29, Average loss 6.58179, Learning rate after Epoch 24: 0.001\n",
            "Loss in Epoch 25: 52607.75, Average loss 6.57597, Learning rate after Epoch 25: 0.001\n",
            "Loss in Epoch 26: 52570.47, Average loss 6.57131, Learning rate after Epoch 26: 0.001\n",
            "Loss in Epoch 27: 52543.77, Average loss 6.56797, Learning rate after Epoch 27: 0.001\n",
            "Loss in Epoch 28: 52488.95, Average loss 6.56112, Learning rate after Epoch 28: 0.001\n",
            "Loss in Epoch 29: 52477.37, Average loss 6.55967, Learning rate after Epoch 29: 0.001\n"
          ]
        }
      ]
    },
    {
      "cell_type": "code",
      "source": [
        "model2 = CBOW2(vocab_size1, embedding_dim=50, context_size=5)  # Added context_size\n",
        "model2.to(device)  # Move model to the appropriate device (CPU or GPU)5\n",
        "# 2. Loss Function and Optimizer Setup\n",
        "loss_func = torch.nn.NLLLoss()\n",
        "optimizer = optim.Adam(model2.parameters(), lr=0.001)\n",
        "\n",
        "\n",
        "scheduler = StepLR(optimizer, step_size=5, gamma=0.5)\n",
        "# 3. Prepare Data for DataLoader (Modified)\n",
        "# Instead of creating large tensors upfront, we will create them in batches within the loop\n",
        "# This reduces the memory footprint\n",
        "\n",
        "# 4. Training Loop (Modified)\n",
        "for epoch in range(30):\n",
        "    total_loss = 0\n",
        "    for i in range(0, len(data5), 128): # Iterate in batches of 128\n",
        "        context_batch = []\n",
        "        target_batch = []\n",
        "        for context5, target5 in data5[i:i+128]: # Get data for current batch\n",
        "            context_vector = make_context_vector(context5, word_to_ix, 5)\n",
        "            context_batch.append(context_vector)\n",
        "            target_batch.append(word_to_ix[target5])\n",
        "\n",
        "        # Convert to tensors for current batch\n",
        "        context_batch = torch.stack(context_batch).to(device)\n",
        "        target_batch = torch.tensor(target_batch, device=device) # Create tensor directly on device\n",
        "\n",
        "        optimizer.zero_grad()\n",
        "        out = model2(context_batch)\n",
        "        loss = loss_func(out, target_batch)\n",
        "        total_loss += loss.item()\n",
        "        loss.backward()\n",
        "        torch.nn.utils.clip_grad_norm_(model2.parameters(), max_norm=1.0) #gradient clipping\n",
        "        optimizer.step()\n",
        "\n",
        "    avg_loss = total_loss / (len(data5) // 128 + (len(data5) % 128 > 0)) # Adjust for incomplete batches\n",
        "    print(f\"Loss in Epoch {epoch}: {np.round(total_loss, 2)}, Average loss {np.round(avg_loss, 5)}\")\n",
        "\n",
        "    print(f\"Lr before stepping: {optimizer.param_groups[0]['lr']}\")\n",
        "    scheduler.step()\n",
        "    current_lr = optimizer.param_groups[0]['lr']\n",
        "    print(f\"Learning rate after Epoch {epoch}: {current_lr}\")"
      ],
      "metadata": {
        "colab": {
          "base_uri": "https://localhost:8080/"
        },
        "id": "zVIM4LYuSJ1r",
        "outputId": "f594a7ea-b7b0-4ad3-c656-3c4d8a3e3a52"
      },
      "execution_count": 15,
      "outputs": [
        {
          "output_type": "stream",
          "name": "stdout",
          "text": [
            "Loss in Epoch 0: 61833.32, Average loss 7.72917\n",
            "Lr before stepping: 0.001\n",
            "Learning rate after Epoch 0: 0.001\n",
            "Loss in Epoch 1: 58360.29, Average loss 7.29504\n",
            "Lr before stepping: 0.001\n",
            "Learning rate after Epoch 1: 0.001\n",
            "Loss in Epoch 2: 57035.37, Average loss 7.12942\n",
            "Lr before stepping: 0.001\n",
            "Learning rate after Epoch 2: 0.001\n",
            "Loss in Epoch 3: 56187.96, Average loss 7.02349\n",
            "Lr before stepping: 0.001\n",
            "Learning rate after Epoch 3: 0.001\n",
            "Loss in Epoch 4: 55591.84, Average loss 6.94898\n",
            "Lr before stepping: 0.001\n",
            "Learning rate after Epoch 4: 0.0005\n",
            "Loss in Epoch 5: 55144.0, Average loss 6.893\n",
            "Lr before stepping: 0.0005\n",
            "Learning rate after Epoch 5: 0.0005\n",
            "Loss in Epoch 6: 54866.23, Average loss 6.85828\n",
            "Lr before stepping: 0.0005\n",
            "Learning rate after Epoch 6: 0.0005\n",
            "Loss in Epoch 7: 54654.29, Average loss 6.83179\n",
            "Lr before stepping: 0.0005\n",
            "Learning rate after Epoch 7: 0.0005\n",
            "Loss in Epoch 8: 54481.15, Average loss 6.81014\n",
            "Lr before stepping: 0.0005\n",
            "Learning rate after Epoch 8: 0.0005\n",
            "Loss in Epoch 9: 54293.63, Average loss 6.7867\n",
            "Lr before stepping: 0.0005\n",
            "Learning rate after Epoch 9: 0.00025\n",
            "Loss in Epoch 10: 54199.22, Average loss 6.7749\n",
            "Lr before stepping: 0.00025\n",
            "Learning rate after Epoch 10: 0.00025\n",
            "Loss in Epoch 11: 54079.12, Average loss 6.75989\n",
            "Lr before stepping: 0.00025\n",
            "Learning rate after Epoch 11: 0.00025\n",
            "Loss in Epoch 12: 53999.34, Average loss 6.74992\n",
            "Lr before stepping: 0.00025\n",
            "Learning rate after Epoch 12: 0.00025\n",
            "Loss in Epoch 13: 53907.82, Average loss 6.73848\n",
            "Lr before stepping: 0.00025\n",
            "Learning rate after Epoch 13: 0.00025\n",
            "Loss in Epoch 14: 53818.44, Average loss 6.72731\n",
            "Lr before stepping: 0.00025\n",
            "Learning rate after Epoch 14: 0.000125\n",
            "Loss in Epoch 15: 53903.39, Average loss 6.73792\n",
            "Lr before stepping: 0.000125\n",
            "Learning rate after Epoch 15: 0.000125\n",
            "Loss in Epoch 16: 53844.07, Average loss 6.73051\n",
            "Lr before stepping: 0.000125\n",
            "Learning rate after Epoch 16: 0.000125\n",
            "Loss in Epoch 17: 53797.37, Average loss 6.72467\n",
            "Lr before stepping: 0.000125\n",
            "Learning rate after Epoch 17: 0.000125\n",
            "Loss in Epoch 18: 53751.84, Average loss 6.71898\n",
            "Lr before stepping: 0.000125\n",
            "Learning rate after Epoch 18: 0.000125\n",
            "Loss in Epoch 19: 53716.86, Average loss 6.71461\n",
            "Lr before stepping: 0.000125\n",
            "Learning rate after Epoch 19: 6.25e-05\n",
            "Loss in Epoch 20: 53833.3, Average loss 6.72916\n",
            "Lr before stepping: 6.25e-05\n",
            "Learning rate after Epoch 20: 6.25e-05\n",
            "Loss in Epoch 21: 53794.62, Average loss 6.72433\n",
            "Lr before stepping: 6.25e-05\n",
            "Learning rate after Epoch 21: 6.25e-05\n",
            "Loss in Epoch 22: 53760.26, Average loss 6.72003\n",
            "Lr before stepping: 6.25e-05\n",
            "Learning rate after Epoch 22: 6.25e-05\n",
            "Loss in Epoch 23: 53736.88, Average loss 6.71711\n",
            "Lr before stepping: 6.25e-05\n",
            "Learning rate after Epoch 23: 6.25e-05\n",
            "Loss in Epoch 24: 53717.35, Average loss 6.71467\n",
            "Lr before stepping: 6.25e-05\n",
            "Learning rate after Epoch 24: 3.125e-05\n",
            "Loss in Epoch 25: 53790.37, Average loss 6.7238\n",
            "Lr before stepping: 3.125e-05\n",
            "Learning rate after Epoch 25: 3.125e-05\n",
            "Loss in Epoch 26: 53757.12, Average loss 6.71964\n",
            "Lr before stepping: 3.125e-05\n",
            "Learning rate after Epoch 26: 3.125e-05\n",
            "Loss in Epoch 27: 53748.83, Average loss 6.7186\n",
            "Lr before stepping: 3.125e-05\n",
            "Learning rate after Epoch 27: 3.125e-05\n",
            "Loss in Epoch 28: 53740.0, Average loss 6.7175\n",
            "Lr before stepping: 3.125e-05\n",
            "Learning rate after Epoch 28: 3.125e-05\n",
            "Loss in Epoch 29: 53720.26, Average loss 6.71503\n",
            "Lr before stepping: 3.125e-05\n",
            "Learning rate after Epoch 29: 1.5625e-05\n"
          ]
        }
      ]
    },
    {
      "cell_type": "markdown",
      "source": [],
      "metadata": {
        "id": "KlskouHsJK1Q"
      }
    },
    {
      "cell_type": "code",
      "execution_count": 16,
      "metadata": {
        "id": "PRhW1MSU_byy",
        "colab": {
          "base_uri": "https://localhost:8080/"
        },
        "outputId": "946bdad4-be0f-4473-9a60-5bcf07d950fc"
      },
      "outputs": [
        {
          "output_type": "stream",
          "name": "stdout",
          "text": [
            "\n",
            "Nouns:\n",
            "hotel: ['doublecheck', 'courtesyhaving', 'property', 'unparalled', 'comforted']\n",
            "room: ['31c', 'unit', 'intranet', 'expo', 'everybodythe']\n",
            "service: ['fruityogurt', 'kogarah', 'transplant', 'bitsi', 'equally']\n",
            "\n",
            "Verbs:\n",
            "stay: ['experience', 'republique', 'fri', 'cityand', 'secorely']\n",
            "enjoy: ['detox', '2500day', 'overground', 'caribbean', 'stumble']\n",
            "recommend: ['recommended', 'recomend', 'sloane', 'factor2', 'picturesin']\n",
            "\n",
            "Adjectives:\n",
            "clean: ['spotless', 'contemporary', 'disappointment', '1005', 'nonexistant']\n",
            "comfortable: ['comfy', 'linen', 'kingsize', 'inwould', 'sagged']\n",
            "friendly: ['friendlythe', 'cheerful', 'courteous', 'trained', 'hotellocated']\n"
          ]
        }
      ],
      "source": [
        "import torch.nn.functional as F\n",
        "\n",
        "# Function to get the 5 closest words\n",
        "def get_closest_words(word, word_to_ix, embeddings, top_n=5):\n",
        "    word_idx = word_to_ix[word]\n",
        "    word_embedding = embeddings(torch.tensor([word_idx], device=device))\n",
        "\n",
        "    # Compute cosine similarities\n",
        "    similarities = {}\n",
        "    for other_word, other_idx in word_to_ix.items():\n",
        "        if other_word != word:\n",
        "            other_embedding = embeddings(torch.tensor([other_idx], device=device))\n",
        "            cos_sim = F.cosine_similarity(word_embedding, other_embedding).item()\n",
        "            similarities[other_word] = cos_sim\n",
        "\n",
        "    # Sort by similarity and return top_n\n",
        "    closest_words = sorted(similarities, key=similarities.get, reverse=True)[:top_n]\n",
        "    return closest_words\n",
        "\n",
        "# Words to test\n",
        "nouns = ['hotel', 'room', 'service']\n",
        "verbs = ['stay', 'enjoy', 'recommend']\n",
        "adjectives = ['clean', 'comfortable', 'friendly']\n",
        "\n",
        "# Get embeddings from the model\n",
        "embeddings = model1.embeddings\n",
        "\n",
        "# Find and print closest words\n",
        "for category, words in [('Nouns', nouns), ('Verbs', verbs), ('Adjectives', adjectives)]:\n",
        "    print(f\"\\n{category}:\")\n",
        "    for word in words:\n",
        "        closest = get_closest_words(word, word_to_ix, embeddings)\n",
        "        print(f\"{word}: {closest}\")"
      ]
    },
    {
      "cell_type": "markdown",
      "metadata": {
        "id": "AXmEddYd-FSr"
      },
      "source": [
        "### 1.6 Train CBOW2 with a context width of 2 (in both directions) for the Sci-Fi story dataset"
      ]
    },
    {
      "cell_type": "code",
      "execution_count": 17,
      "metadata": {
        "id": "2U1S_5Hx-Jku",
        "colab": {
          "base_uri": "https://localhost:8080/"
        },
        "outputId": "a6778d94-36b0-4045-9397-0955fa50f076"
      },
      "outputs": [
        {
          "output_type": "stream",
          "name": "stdout",
          "text": [
            "121871\n",
            "[(['chat', 'editor', 'fiction', 'magazine'], 'science'), (['editor', 'science', 'magazine', 'called'], 'fiction'), (['science', 'fiction', 'called', 'title'], 'magazine'), (['fiction', 'magazine', 'title', 'selected'], 'called'), (['magazine', 'called', 'selected', 'much'], 'title')]\n",
            "3954321\n",
            "10000\n"
          ]
        }
      ],
      "source": [
        "#vocab1 = set(hotel_reviews_processed)\n",
        "vocab2 = set(sci_fi_story_processed)\n",
        "vocab_size2 = len(vocab2)\n",
        "print(vocab_size2)\n",
        "\n",
        "word_to_ix2 = {word: i for i, word in enumerate(vocab2)}\n",
        "\n",
        "#ix_to_word = {ix: word for i, word in enumerate(vocab)}\n",
        "\n",
        "dataS2 = []\n",
        "for i in range(2, len(sci_fi_story_processed) - 2):\n",
        "    contextS2 = [sci_fi_story_processed[i - 2], sci_fi_story_processed[i - 1],\n",
        "               sci_fi_story_processed[i + 1], sci_fi_story_processed[i + 2]]\n",
        "    targetS2 = sci_fi_story_processed[i]\n",
        "    dataS2.append((contextS2, targetS2))\n",
        "print(dataS2[:5])\n",
        "print(len(dataS2))\n",
        "\n",
        "datatestS2 = dataS2[0:10000]\n",
        "\n",
        "print(len(datatestS2))\n"
      ]
    },
    {
      "cell_type": "code",
      "source": [
        "\n",
        "class CBOWS2(nn.Module):\n",
        "    def __init__(self, vocab_size2, embedding_dim, context_size):\n",
        "        super(CBOWS2, self).__init__()\n",
        "        self.embeddings = nn.Embedding(vocab_size2, embedding_dim)\n",
        "        self.linear1 = nn.Linear(embedding_dim, 128) # Modified: Input size should match embedding_dim\n",
        "        self.dropout = nn.Dropout(0.25)  # Dropout layer for regularization\n",
        "        self.activation_fn = nn.ReLU()  # Activation function (ReLU in this case)\n",
        "        self.linear2 = nn.Linear(128, vocab_size2)\n",
        "        self.context_size = context_size\n",
        "\n",
        "    def forward(self, inputs):\n",
        "        embeds = self.embeddings(inputs)\n",
        "        #print(f\"embeds shape: {embeds.shape}\") #DEBUG\n",
        "        embeds = torch.mean(embeds, dim=1).view(inputs.shape[0], -1) # take mean on the context, keep batch dim\n",
        "        #print(f\"embeds shape: {embeds.shape}\") #DEBUG\n",
        "        embeds = self.dropout(embeds)\n",
        "        #print(f\"embeds shape: {embeds.shape}\") #DEBUG\n",
        "        out = self.linear1(embeds)\n",
        "        #print(f\"out shape: {out.shape}\") #DEBUG\n",
        "        out = self.activation_fn(out)\n",
        "        #print(f\"out shape: {out.shape}\") #DEBUG\n",
        "        out = self.linear2(out)\n",
        "        #print(f\"out shape: {out.shape}\") #DEBUG\n",
        "        log_probs = F.log_softmax(out, dim=-1)\n",
        "        return log_probs\n",
        "\n",
        "\n",
        "    def get_word_embedding(self, word):\n",
        "        word = torch.tensor([word_to_ix2[word]], dtype=torch.long).to(device)\n",
        "        return self.embeddings(word).view(1, -1)\n",
        "\n",
        "def make_context_vector(context, word_to_ix, context_size):\n",
        "    idxs = [word_to_ix2[w] for w in contextS2]\n",
        "    return torch.tensor(idxs, dtype=torch.long).to(device)"
      ],
      "metadata": {
        "id": "kbCgyEReoUrJ"
      },
      "execution_count": 18,
      "outputs": []
    },
    {
      "cell_type": "code",
      "source": [
        "\n",
        "\n",
        "\n",
        "model3 = CBOWS2(vocab_size2, embedding_dim=30, context_size=2)  # Added context_size\n",
        "model3.to(device)  # Move model to the appropriate device (CPU or GPU)5\n",
        "# 2. Loss Function and Optimizer Setup\n",
        "loss_func = torch.nn.NLLLoss()\n",
        "optimizer = optim.AdamW(model3.parameters(), lr=0.01)\n",
        "\n",
        "#scheduler = ReduceLROnPlateau(optimizer, mode='min', factor=0.1, patience=1)\n",
        "scheduler = StepLR(optimizer, step_size=2, gamma=0.95)\n",
        "\n",
        "# 3. Prepare Data for DataLoader (Modified1\n",
        "# Instead of creating large tensors upfront, we will create them in batches within the loop\n",
        "# This reduces the memory footprint\n",
        "\n",
        "# 4. Training Loop (Modified)\n",
        "for epoch in range(20):\n",
        "    total_loss = 0\n",
        "    #for i in range(0, len(dataS2), 128):# Iterate in batches of 128\n",
        "    for i in range(0, len(dataS2), 512):\n",
        "        context_batch = []\n",
        "        target_batch = []\n",
        "        for contextS2, targetS2 in dataS2[i:i+512]:#[i:i+128] # Get data for current batch\n",
        "            context_vector = make_context_vector(contextS2, word_to_ix2, 2)\n",
        "            context_batch.append(context_vector)\n",
        "            target_batch.append(word_to_ix2[targetS2]) #\n",
        "\n",
        "        # Convert to tensors for current batch\n",
        "        context_batch = torch.stack(context_batch).to(device)\n",
        "        target_batch = torch.tensor(target_batch, device=device) # Create tensor directly on device\n",
        "\n",
        "        optimizer.zero_grad()\n",
        "        out = model3(context_batch)\n",
        "        loss = loss_func(out, target_batch)\n",
        "        total_loss += loss.item()\n",
        "        loss.backward()\n",
        "        torch.nn.utils.clip_grad_norm_(model3.parameters(), max_norm=1.0) #gradient clipping\n",
        "        optimizer.step()\n",
        "\n",
        "    #avg_loss = total_loss / (len(dataS2) // 128 + (len(dataS2) % 128 > 0))\n",
        "    avg_loss = total_loss / (len(dataS2) // 512 + (len(dataS2) % 512 > 0))# Adjust for incomplete batches\n",
        "\n",
        "    print(f\"Loss in Epoch {epoch}: {np.round(total_loss, 2)}, Average loss {np.round(avg_loss, 5)}\")\n",
        "\n",
        "    print(f\"Lr before stepping: {optimizer.param_groups[0]['lr']}\")\n",
        "    scheduler.step()\n",
        "    current_lr = optimizer.param_groups[0]['lr']\n",
        "    print(f\"Learning rate after Epoch {epoch}: {current_lr}\")"
      ],
      "metadata": {
        "colab": {
          "base_uri": "https://localhost:8080/"
        },
        "id": "ZJAU-QfIO3TV",
        "outputId": "b652d765-0e86-46c0-981c-4126ef126efc"
      },
      "execution_count": 19,
      "outputs": [
        {
          "output_type": "stream",
          "name": "stdout",
          "text": [
            "Loss in Epoch 0: 68359.18, Average loss 8.85023\n",
            "Lr before stepping: 0.01\n",
            "Learning rate after Epoch 0: 0.01\n",
            "Loss in Epoch 1: 65961.02, Average loss 8.53975\n",
            "Lr before stepping: 0.01\n",
            "Learning rate after Epoch 1: 0.0095\n",
            "Loss in Epoch 2: 65923.2, Average loss 8.53485\n",
            "Lr before stepping: 0.0095\n",
            "Learning rate after Epoch 2: 0.0095\n",
            "Loss in Epoch 3: 65595.37, Average loss 8.49241\n",
            "Lr before stepping: 0.0095\n",
            "Learning rate after Epoch 3: 0.009025\n",
            "Loss in Epoch 4: 65674.9, Average loss 8.50271\n",
            "Lr before stepping: 0.009025\n",
            "Learning rate after Epoch 4: 0.009025\n",
            "Loss in Epoch 5: 65410.08, Average loss 8.46842\n",
            "Lr before stepping: 0.009025\n",
            "Learning rate after Epoch 5: 0.00857375\n",
            "Loss in Epoch 6: 65314.5, Average loss 8.45605\n",
            "Lr before stepping: 0.00857375\n",
            "Learning rate after Epoch 6: 0.00857375\n",
            "Loss in Epoch 7: 65319.34, Average loss 8.45667\n",
            "Lr before stepping: 0.00857375\n",
            "Learning rate after Epoch 7: 0.0081450625\n",
            "Loss in Epoch 8: 65311.41, Average loss 8.45565\n",
            "Lr before stepping: 0.0081450625\n",
            "Learning rate after Epoch 8: 0.0081450625\n",
            "Loss in Epoch 9: 65024.69, Average loss 8.41852\n",
            "Lr before stepping: 0.0081450625\n",
            "Learning rate after Epoch 9: 0.007737809374999999\n",
            "Loss in Epoch 10: 65126.67, Average loss 8.43173\n",
            "Lr before stepping: 0.007737809374999999\n",
            "Learning rate after Epoch 10: 0.007737809374999999\n",
            "Loss in Epoch 11: 64965.69, Average loss 8.41089\n",
            "Lr before stepping: 0.007737809374999999\n",
            "Learning rate after Epoch 11: 0.007350918906249998\n",
            "Loss in Epoch 12: 64907.62, Average loss 8.40337\n",
            "Lr before stepping: 0.007350918906249998\n",
            "Learning rate after Epoch 12: 0.007350918906249998\n",
            "Loss in Epoch 13: 64835.23, Average loss 8.394\n",
            "Lr before stepping: 0.007350918906249998\n",
            "Learning rate after Epoch 13: 0.006983372960937498\n",
            "Loss in Epoch 14: 64809.15, Average loss 8.39062\n",
            "Lr before stepping: 0.006983372960937498\n",
            "Learning rate after Epoch 14: 0.006983372960937498\n",
            "Loss in Epoch 15: 64613.07, Average loss 8.36523\n",
            "Lr before stepping: 0.006983372960937498\n",
            "Learning rate after Epoch 15: 0.006634204312890623\n",
            "Loss in Epoch 16: 64508.04, Average loss 8.35164\n",
            "Lr before stepping: 0.006634204312890623\n",
            "Learning rate after Epoch 16: 0.006634204312890623\n",
            "Loss in Epoch 17: 64515.37, Average loss 8.35258\n",
            "Lr before stepping: 0.006634204312890623\n",
            "Learning rate after Epoch 17: 0.006302494097246091\n",
            "Loss in Epoch 18: 64382.48, Average loss 8.33538\n",
            "Lr before stepping: 0.006302494097246091\n",
            "Learning rate after Epoch 18: 0.006302494097246091\n",
            "Loss in Epoch 19: 64336.95, Average loss 8.32949\n",
            "Lr before stepping: 0.006302494097246091\n",
            "Learning rate after Epoch 19: 0.005987369392383786\n"
          ]
        }
      ]
    },
    {
      "cell_type": "code",
      "source": [
        "\n",
        "\n",
        "\n",
        "model4 = CBOWS2(vocab_size2, embedding_dim=20, context_size=2)  # Added context_size\n",
        "model4.to(device)  # Move model to the appropriate device (CPU or GPU)5\n",
        "# 2. Loss Function and Optimizer Setup\n",
        "loss_func = torch.nn.NLLLoss()\n",
        "optimizer = optim.Adam(model4.parameters(), lr=0.01)\n",
        "\n",
        "#scheduler = ReduceLROnPlateau(optimizer, mode='min', factor=0.1, patience=1)\n",
        "scheduler = StepLR(optimizer, step_size=4, gamma=0.95)\n",
        "\n",
        "# 3. Prepare Data for DataLoader (Modified1\n",
        "# Instead of creating large tensors upfront, we will create them in batches within the loop\n",
        "# This reduces the memory footprint\n",
        "\n",
        "# 4. Training Loop (Modified)\n",
        "for epoch in range(20):\n",
        "    total_loss = 0\n",
        "    #for i in range(0, len(dataS2), 128):# Iterate in batches of 128\n",
        "    for i in range(0, len(dataS2), 1024):\n",
        "        context_batch = []\n",
        "        target_batch = []\n",
        "        for contextS2, targetS2 in dataS2[i:i+1024]:#[i:i+128] # Get data for current batch\n",
        "            context_vector = make_context_vector(contextS2, word_to_ix2, 2)\n",
        "            context_batch.append(context_vector)\n",
        "            target_batch.append(word_to_ix2[targetS2]) #\n",
        "\n",
        "        # Convert to tensors for current batch\n",
        "        context_batch = torch.stack(context_batch).to(device)\n",
        "        target_batch = torch.tensor(target_batch, device=device) # Create tensor directly on device\n",
        "\n",
        "        optimizer.zero_grad()\n",
        "        out = model4(context_batch)\n",
        "        loss = loss_func(out, target_batch)\n",
        "        total_loss += loss.item()\n",
        "        loss.backward()\n",
        "        torch.nn.utils.clip_grad_norm_(model4.parameters(), max_norm=1.0) #gradient clipping\n",
        "        optimizer.step()\n",
        "\n",
        "    #avg_loss = total_loss / (len(dataS2) // 128 + (len(dataS2) % 128 > 0))\n",
        "    avg_loss = total_loss / (len(dataS2) // 1024 + (len(dataS2) % 1024 > 0))# Adjust for incomplete batches\n",
        "\n",
        "    print(f\"Loss in Epoch {epoch}: {np.round(total_loss, 2)}, Average loss {np.round(avg_loss, 5)}\")\n",
        "\n",
        "    print(f\"Lr before stepping: {optimizer.param_groups[0]['lr']}\")\n",
        "    scheduler.step()\n",
        "    current_lr = optimizer.param_groups[0]['lr']\n",
        "    print(f\"Learning rate after Epoch {epoch}: {current_lr}\")"
      ],
      "metadata": {
        "colab": {
          "base_uri": "https://localhost:8080/"
        },
        "id": "VD5CntxBsmrv",
        "outputId": "ad5d1096-51bb-41fc-a15c-4ccd0f234506"
      },
      "execution_count": null,
      "outputs": [
        {
          "output_type": "stream",
          "name": "stdout",
          "text": [
            "Loss in Epoch 0: 34090.1, Average loss 8.82706\n",
            "Lr before stepping: 0.01\n",
            "Learning rate after Epoch 0: 0.01\n",
            "Loss in Epoch 1: 32897.9, Average loss 8.51836\n",
            "Lr before stepping: 0.01\n",
            "Learning rate after Epoch 1: 0.01\n",
            "Loss in Epoch 2: 32648.88, Average loss 8.45388\n",
            "Lr before stepping: 0.01\n",
            "Learning rate after Epoch 2: 0.01\n",
            "Loss in Epoch 3: 32565.59, Average loss 8.43231\n",
            "Lr before stepping: 0.01\n",
            "Learning rate after Epoch 3: 0.0095\n",
            "Loss in Epoch 4: 32438.16, Average loss 8.39932\n",
            "Lr before stepping: 0.0095\n",
            "Learning rate after Epoch 4: 0.0095\n"
          ]
        }
      ]
    },
    {
      "cell_type": "markdown",
      "metadata": {
        "id": "ulqFt2nc_Oq7"
      },
      "source": [
        "### 2.1 For the hotel reviews dataset, choose 3 nouns, 3 verbs, and 3 adjectives. (CBOW2 and optionally for CBOW5)\n",
        "Make sure that some nouns/verbs/adjectives occur frequently in the corpus and that others are rare. For each of the 9 chosen words, retrieve the 5 closest words according to your trained CBOW2 model.    \n",
        "\n",
        "🗒❓ List them in your report (at the end of this notebook) and comment on the performance of your model: do the neighbours the model provides make sense? Discuss.   \n"
      ]
    },
    {
      "cell_type": "markdown",
      "metadata": {
        "id": "njWN32I2ADn9"
      },
      "source": [
        "### 2.2 Repeat 2.1 for SciFi Dataset\n",
        "\n",
        "🗒❓ List your findings for SciFi Dataset as well, similarly to 2.1"
      ]
    },
    {
      "cell_type": "code",
      "execution_count": 20,
      "metadata": {
        "id": "h3Uyn_VpAWa-",
        "colab": {
          "base_uri": "https://localhost:8080/"
        },
        "outputId": "663cb839-1974-4fad-cba3-9fb00de7f2d4"
      },
      "outputs": [
        {
          "output_type": "stream",
          "name": "stdout",
          "text": [
            "\n",
            "Nouns:\n",
            "robot: ['beautician', 'outraged', 'formallylet', 'dean', 'server']\n",
            "time: ['posession', 'seventyone', 'polyculture', 'adthus', 'problemstory']\n",
            "technology: ['recapturing', 'beachcomber', 'longerrange', 'stalkinghorse', 'refound']\n",
            "\n",
            "Verbs:\n",
            "explore: ['stuns', 'paiagraphs', 'institutionalized', 'missle', 'monstercon']\n",
            "discover: ['unemployed', 'favour', 'restatement', 'hyperdimensional', 'suggest']\n",
            "communicate: ['prearranging', 'foostmams', 'nonpol', 'benign', 'expuritan']\n",
            "\n",
            "Adjectives:\n",
            "strange: ['rallying', 'sunlike', 'bong', 'vsrill', 'sideaffects']\n",
            "advanced: ['theretofore', 'yital', 'transcription', 'jsland', 'yourc']\n",
            "intelligent: ['extrapsi', 'physical', 'inferior', 'emotional', 'coherency']\n"
          ]
        }
      ],
      "source": [
        "\n",
        "def get_closest_words1(word, word_to_ix2, embeddings, top_n=5):\n",
        "    word_idx = word_to_ix2[word]\n",
        "    word_embedding = embeddings(torch.tensor([word_idx], device=device))\n",
        "\n",
        "    # Compute cosine similarities\n",
        "    similarities = {}\n",
        "    for other_word, other_idx in word_to_ix2.items():\n",
        "        if other_word != word:\n",
        "            other_embedding = embeddings(torch.tensor([other_idx], device=device))\n",
        "            cos_sim = F.cosine_similarity(word_embedding, other_embedding).item()\n",
        "            similarities[other_word] = cos_sim\n",
        "\n",
        "    # Sort by similarity and return top_n\n",
        "    closest_words = sorted(similarities, key=similarities.get, reverse=True)[:top_n]\n",
        "    return closest_words\n",
        "\n",
        "# Words to test\n",
        "nouns = ['robot', 'time', 'technology']\n",
        "verbs = ['explore', 'discover', 'communicate']\n",
        "adjectives = ['strange', 'advanced', 'intelligent']\n",
        "\n",
        "# Get embeddings from the model\n",
        "embeddings = model3.embeddings\n",
        "\n",
        "# Find and print closest words\n",
        "for category, words in [('Nouns', nouns), ('Verbs', verbs), ('Adjectives', adjectives)]:\n",
        "    print(f\"\\n{category}:\")\n",
        "    for word in words:\n",
        "        closest = get_closest_words(word, word_to_ix2, embeddings)\n",
        "        print(f\"{word}: {closest}\")"
      ]
    },
    {
      "cell_type": "markdown",
      "metadata": {
        "id": "E2yqWM5oAhzf"
      },
      "source": [
        "### 2.3 🗒❓ How does the quality of the hotel review-based embeddings compare with the Sci-fi-based embeddings? Elaborate."
      ]
    },
    {
      "cell_type": "markdown",
      "metadata": {
        "id": "oQrywIKgA1Ct"
      },
      "source": []
    },
    {
      "cell_type": "markdown",
      "metadata": {
        "id": "Ivwn8YCgA4GX"
      },
      "source": [
        "### 2.4 Choose 2 words and retrieve their 5 closest neighbours according to hotel review-based embeddings and the Sci-fi-based embeddings.\n",
        "\n",
        "🗒❓ Do they have different neighbours? If yes, can you reason why?"
      ]
    },
    {
      "cell_type": "code",
      "execution_count": 21,
      "metadata": {
        "id": "4J_xUKzgA3gU",
        "colab": {
          "base_uri": "https://localhost:8080/"
        },
        "outputId": "4ffa6bf7-d70a-4dc4-efca-ef2399800344"
      },
      "outputs": [
        {
          "output_type": "stream",
          "name": "stdout",
          "text": [
            "Closest words to 'room' in Hotel Reviews: ['31c', 'unit', 'intranet', 'expo', 'everybodythe']\n",
            "Closest words to 'star' in Hotel Reviews: ['nomad', 'preminim', 'grecoroman', 'groom', 'bad']\n",
            "Closest words to 'room' in Sci-Fi: ['junnabls', 'taunton', 'foothigh', 'side', 'cassiopeia']\n",
            "Closest words to 'star' in Sci-Fi: ['quantification', 'enodimous', 'cashable', 'lactame', 'libration']\n"
          ]
        }
      ],
      "source": [
        "\n",
        "\n",
        "\n",
        "words_to_compare = ['room', 'star']\n",
        "\n",
        "# Hotel review-based embeddings\n",
        "for word in words_to_compare:\n",
        "    closest_words = get_closest_words(word, word_to_ix, model1.embeddings) #LATER CHANGE TO ***model1***\n",
        "    print(f\"Closest words to '{word}' in Hotel Reviews: {closest_words}\")\n",
        "\n",
        "# Sci-fi-based embeddings\n",
        "for word in words_to_compare:\n",
        "    closest = get_closest_words1(word, word_to_ix2, model3.embeddings) # LATER CHANGE TO ***model3*** # Use word_to_ix2 for Sci-fi\n",
        "    print(f\"Closest words to '{word}' in Sci-Fi: {closest}\")\n"
      ]
    },
    {
      "cell_type": "markdown",
      "metadata": {
        "id": "DD09lU02Cw7e"
      },
      "source": [
        "### 2.5 🗒❓ What are the differences between CBOW2 and CBOW5 ? Can you \"describe\" them?    "
      ]
    },
    {
      "cell_type": "markdown",
      "metadata": {
        "id": "L9SZlUPM4mZr"
      },
      "source": []
    },
    {
      "cell_type": "markdown",
      "metadata": {
        "id": "RdgWLLHJC24h"
      },
      "source": [
        "### Report\n",
        "The lab report should contain a detailed description of the approaches you have used to solve this exercise. Please also include results.\n",
        "\n",
        "Answers for the questions marked 🗒❓ goes here as well"
      ]
    },
    {
      "cell_type": "markdown",
      "metadata": {
        "id": "eLWqDG2GFV69"
      },
      "source": []
    }
  ],
  "metadata": {
    "accelerator": "GPU",
    "colab": {
      "gpuType": "T4",
      "provenance": [],
      "include_colab_link": true
    },
    "kernelspec": {
      "display_name": "Python 3",
      "name": "python3"
    },
    "language_info": {
      "name": "python"
    }
  },
  "nbformat": 4,
  "nbformat_minor": 0
}