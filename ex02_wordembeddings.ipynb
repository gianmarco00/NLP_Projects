{
  "nbformat": 4,
  "nbformat_minor": 0,
  "metadata": {
    "colab": {
      "provenance": [],
      "gpuType": "L4",
      "machine_shape": "hm"
    },
    "kernelspec": {
      "name": "python3",
      "display_name": "Python 3"
    },
    "language_info": {
      "name": "python"
    },
    "accelerator": "GPU"
  },
  "cells": [
    {
      "cell_type": "code",
      "execution_count": null,
      "metadata": {
        "id": "gALCagMSOnRz"
      },
      "outputs": [],
      "source": [
        "%matplotlib inline"
      ]
    },
    {
      "cell_type": "markdown",
      "source": [
        "### Source: [link](https://pytorch.org/tutorials/beginner/nlp/word_embeddings_tutorial.html#exercise-computing-word-embeddings-continuous-bag-of-words)\n",
        "\n",
        "# Word Embeddings: Encoding Lexical Semantics\n",
        "\n",
        "Word embeddings are dense vectors of real numbers, one per word in your\n",
        "vocabulary. In NLP, it is almost always the case that your features are\n",
        "words! But how should you represent a word in a computer? You could\n",
        "store its ascii character representation, but that only tells you what\n",
        "the word *is*, it doesn't say much about what it *means* (you might be\n",
        "able to derive its part of speech from its affixes, or properties from\n",
        "its capitalization, but not much). Even more, in what sense could you\n",
        "combine these representations? We often want dense outputs from our\n",
        "neural networks, where the inputs are $|V|$ dimensional, where\n",
        "$V$ is our vocabulary, but often the outputs are only a few\n",
        "dimensional (if we are only predicting a handful of labels, for\n",
        "instance). How do we get from a massive dimensional space to a smaller\n",
        "dimensional space?\n",
        "\n",
        "How about instead of ascii representations, we use a one-hot encoding?\n",
        "That is, we represent the word $w$ by\n",
        "\n",
        "\\begin{align}\\overbrace{\\left[ 0, 0, \\dots, 1, \\dots, 0, 0 \\right]}^\\text{|V| elements}\\end{align}\n",
        "\n",
        "where the 1 is in a location unique to $w$. Any other word will\n",
        "have a 1 in some other location, and a 0 everywhere else.\n",
        "\n",
        "There is an enormous drawback to this representation, besides just how\n",
        "huge it is. It basically treats all words as independent entities with\n",
        "no relation to each other. What we really want is some notion of\n",
        "*similarity* between words. Why? Let's see an example.\n",
        "\n",
        "Suppose we are building a language model. Suppose we have seen the\n",
        "sentences\n",
        "\n",
        "* The mathematician ran to the store.\n",
        "* The physicist ran to the store.\n",
        "* The mathematician solved the open problem.\n",
        "\n",
        "in our training data. Now suppose we get a new sentence never before\n",
        "seen in our training data:\n",
        "\n",
        "* The physicist solved the open problem.\n",
        "\n",
        "Our language model might do OK on this sentence, but wouldn't it be much\n",
        "better if we could use the following two facts:\n",
        "\n",
        "* We have seen  mathematician and physicist in the same role in a sentence. Somehow they\n",
        "  have a semantic relation.\n",
        "* We have seen mathematician in the same role  in this new unseen sentence\n",
        "  as we are now seeing physicist.\n",
        "\n",
        "and then infer that physicist is actually a good fit in the new unseen\n",
        "sentence? This is what we mean by a notion of similarity: we mean\n",
        "*semantic similarity*, not simply having similar orthographic\n",
        "representations. It is a technique to combat the sparsity of linguistic\n",
        "data, by connecting the dots between what we have seen and what we\n",
        "haven't. This example of course relies on a fundamental linguistic\n",
        "assumption: that words appearing in similar contexts are related to each\n",
        "other semantically. This is called the `distributional\n",
        "hypothesis <https://en.wikipedia.org/wiki/Distributional_semantics>`__.\n",
        "\n",
        "\n",
        "# Getting Dense Word Embeddings\n",
        "\n",
        "How can we solve this problem? That is, how could we actually encode\n",
        "semantic similarity in words? Maybe we think up some semantic\n",
        "attributes. For example, we see that both mathematicians and physicists\n",
        "can run, so maybe we give these words a high score for the \"is able to\n",
        "run\" semantic attribute. Think of some other attributes, and imagine\n",
        "what you might score some common words on those attributes.\n",
        "\n",
        "If each attribute is a dimension, then we might give each word a vector,\n",
        "like this:\n",
        "\n",
        "\\begin{align}q_\\text{mathematician} = \\left[ \\overbrace{2.3}^\\text{can run},\n",
        "   \\overbrace{9.4}^\\text{likes coffee}, \\overbrace{-5.5}^\\text{majored in Physics}, \\dots \\right]\\end{align}\n",
        "\n",
        "\\begin{align}q_\\text{physicist} = \\left[ \\overbrace{2.5}^\\text{can run},\n",
        "   \\overbrace{9.1}^\\text{likes coffee}, \\overbrace{6.4}^\\text{majored in Physics}, \\dots \\right]\\end{align}\n",
        "\n",
        "Then we can get a measure of similarity between these words by doing:\n",
        "\n",
        "\\begin{align}\\text{Similarity}(\\text{physicist}, \\text{mathematician}) = q_\\text{physicist} \\cdot q_\\text{mathematician}\\end{align}\n",
        "\n",
        "Although it is more common to normalize by the lengths:\n",
        "\n",
        "\\begin{align}\\text{Similarity}(\\text{physicist}, \\text{mathematician}) = \\frac{q_\\text{physicist} \\cdot q_\\text{mathematician}}\n",
        "   {\\| q_\\text{\\physicist} \\| \\| q_\\text{mathematician} \\|} = \\cos (\\phi)\\end{align}\n",
        "\n",
        "Where $\\phi$ is the angle between the two vectors. That way,\n",
        "extremely similar words (words whose embeddings point in the same\n",
        "direction) will have similarity 1. Extremely dissimilar words should\n",
        "have similarity -1.\n",
        "\n",
        "\n",
        "You can think of the sparse one-hot vectors from the beginning of this\n",
        "section as a special case of these new vectors we have defined, where\n",
        "each word basically has similarity 0, and we gave each word some unique\n",
        "semantic attribute. These new vectors are *dense*, which is to say their\n",
        "entries are (typically) non-zero.\n",
        "\n",
        "But these new vectors are a big pain: you could think of thousands of\n",
        "different semantic attributes that might be relevant to determining\n",
        "similarity, and how on earth would you set the values of the different\n",
        "attributes? Central to the idea of deep learning is that the neural\n",
        "network learns representations of the features, rather than requiring\n",
        "the programmer to design them herself. So why not just let the word\n",
        "embeddings be parameters in our model, and then be updated during\n",
        "training? This is exactly what we will do. We will have some *latent\n",
        "semantic attributes* that the network can, in principle, learn. Note\n",
        "that the word embeddings will probably not be interpretable. That is,\n",
        "although with our hand-crafted vectors above we can see that\n",
        "mathematicians and physicists are similar in that they both like coffee,\n",
        "if we allow a neural network to learn the embeddings and see that both\n",
        "mathematicians and physicists have a large value in the second\n",
        "dimension, it is not clear what that means. They are similar in some\n",
        "latent semantic dimension, but this probably has no interpretation to\n",
        "us.\n",
        "\n",
        "\n",
        "In summary, **word embeddings are a representation of the *semantics* of\n",
        "a word, efficiently encoding semantic information that might be relevant\n",
        "to the task at hand**. You can embed other things too: part of speech\n",
        "tags, parse trees, anything! The idea of feature embeddings is central\n",
        "to the field.\n",
        "\n",
        "\n",
        "# Word Embeddings in Pytorch\n",
        "\n",
        "Before we get to a worked example and an exercise, a few quick notes\n",
        "about how to use embeddings in Pytorch and in deep learning programming\n",
        "in general. Similar to how we defined a unique index for each word when\n",
        "making one-hot vectors, we also need to define an index for each word\n",
        "when using embeddings. These will be keys into a lookup table. That is,\n",
        "embeddings are stored as a $|V| \\times D$ matrix, where $D$\n",
        "is the dimensionality of the embeddings, such that the word assigned\n",
        "index $i$ has its embedding stored in the $i$'th row of the\n",
        "matrix. In all of my code, the mapping from words to indices is a\n",
        "dictionary named word\\_to\\_ix.\n",
        "\n",
        "The module that allows you to use embeddings is torch.nn.Embedding,\n",
        "which takes two arguments: the vocabulary size, and the dimensionality\n",
        "of the embeddings.\n",
        "\n",
        "To index into this table, you must use torch.LongTensor (since the\n",
        "indices are integers, not floats).\n",
        "\n",
        "\n"
      ],
      "metadata": {
        "id": "jgHDDrKlO35U"
      }
    },
    {
      "cell_type": "code",
      "source": [
        "# Author: Robert Guthrie\n",
        "\n",
        "import torch\n",
        "import torch.nn as nn\n",
        "import torch.nn.functional as F\n",
        "import torch.optim as optim\n",
        "import numpy as np\n",
        "torch.manual_seed(1)"
      ],
      "metadata": {
        "colab": {
          "base_uri": "https://localhost:8080/"
        },
        "id": "M_Q2GVH0OwvH",
        "outputId": "874d0218-086f-4fcb-ca3f-6219a1f53a36"
      },
      "execution_count": 6,
      "outputs": [
        {
          "output_type": "execute_result",
          "data": {
            "text/plain": [
              "<torch._C.Generator at 0x79c97e742450>"
            ]
          },
          "metadata": {},
          "execution_count": 6
        }
      ]
    },
    {
      "cell_type": "code",
      "source": [
        "word_to_ix = {\"hello\": 0, \"world\": 1}\n",
        "embeds = nn.Embedding(2, 5)  # 2 words in vocab, 5 dimensional embeddings\n",
        "lookup_tensor = torch.tensor([word_to_ix[\"hello\"]], dtype=torch.long)\n",
        "hello_embed = embeds(lookup_tensor)\n",
        "print(hello_embed)"
      ],
      "metadata": {
        "colab": {
          "base_uri": "https://localhost:8080/"
        },
        "id": "MN96_fK5Plv6",
        "outputId": "55c8fda2-8586-4f54-cd22-08c508f17165"
      },
      "execution_count": null,
      "outputs": [
        {
          "output_type": "stream",
          "name": "stdout",
          "text": [
            "tensor([[ 0.6614,  0.2669,  0.0617,  0.6213, -0.4519]],\n",
            "       grad_fn=<EmbeddingBackward0>)\n"
          ]
        }
      ]
    },
    {
      "cell_type": "markdown",
      "source": [
        "# An Example: N-Gram Language Modeling\n",
        "\n",
        "Recall that in an n-gram language model, given a sequence of words\n",
        "$w$, we want to compute\n",
        "\n",
        "\\begin{align}P(w_i | w_{i-1}, w_{i-2}, \\dots, w_{i-n+1} )\\end{align}\n",
        "\n",
        "Where $w_i$ is the ith word of the sequence.\n",
        "\n",
        "In this example, we will compute the loss function on some training\n",
        "examples and update the parameters with backpropagation."
      ],
      "metadata": {
        "id": "l3ecRemdPstX"
      }
    },
    {
      "cell_type": "code",
      "source": [
        "CONTEXT_SIZE = 2\n",
        "EMBEDDING_DIM = 10\n",
        "# We will use Shakespeare Sonnet 2\n",
        "test_sentence = \"\"\"When forty winters shall besiege thy brow,\n",
        "And dig deep trenches in thy beauty's field,\n",
        "Thy youth's proud livery so gazed on now,\n",
        "Will be a totter'd weed of small worth held:\n",
        "Then being asked, where all thy beauty lies,\n",
        "Where all the treasure of thy lusty days;\n",
        "To say, within thine own deep sunken eyes,\n",
        "Were an all-eating shame, and thriftless praise.\n",
        "How much more praise deserv'd thy beauty's use,\n",
        "If thou couldst answer 'This fair child of mine\n",
        "Shall sum my count, and make my old excuse,'\n",
        "Proving his beauty by succession thine!\n",
        "This were to be new made when thou art old,\n",
        "And see thy blood warm when thou feel'st it cold.\"\"\".split()\n",
        "# we should tokenize the input, but we will ignore that for now\n",
        "# build a list of tuples.  Each tuple is ([ word_i-2, word_i-1 ], target word)\n",
        "trigrams = [([test_sentence[i], test_sentence[i + 1]], test_sentence[i + 2])\n",
        "            for i in range(len(test_sentence) - 2)]\n",
        "# print the first 3, just so you can see what they look like\n",
        "print(trigrams[:3])\n",
        "\n",
        "vocab = set(test_sentence)\n",
        "word_to_ix = {word: i for i, word in enumerate(vocab)}\n",
        "\n",
        "\n",
        "class NGramLanguageModeler(nn.Module):\n",
        "\n",
        "    def __init__(self, vocab_size, embedding_dim, context_size):\n",
        "        super(NGramLanguageModeler, self).__init__()\n",
        "        self.embeddings = nn.Embedding(vocab_size, embedding_dim)\n",
        "        self.linear1 = nn.Linear(context_size * embedding_dim, 128)\n",
        "        self.linear2 = nn.Linear(128, vocab_size)\n",
        "\n",
        "    def forward(self, inputs):\n",
        "        embeds = self.embeddings(inputs).view((1, -1))\n",
        "        out = F.relu(self.linear1(embeds))\n",
        "        out = self.linear2(out)\n",
        "        log_probs = F.log_softmax(out, dim=1)\n",
        "        return log_probs\n",
        "\n",
        "\n",
        "losses = []\n",
        "loss_function = nn.NLLLoss() # Negative Log Likelihood Loss\n",
        "model = NGramLanguageModeler(len(vocab), EMBEDDING_DIM, CONTEXT_SIZE)\n",
        "optimizer = optim.SGD(model.parameters(), lr=0.001)\n",
        "\n",
        "for epoch in range(10):\n",
        "    total_loss = 0\n",
        "    for context, target in trigrams:\n",
        "\n",
        "        # Step 1. Prepare the inputs to be passed to the model (i.e, turn the words\n",
        "        # into integer indices and wrap them in tensors)\n",
        "        context_idxs = torch.tensor([word_to_ix[w] for w in context], dtype=torch.long)\n",
        "\n",
        "        # Step 2. Recall that torch *accumulates* gradients. Before passing in a\n",
        "        # new instance, you need to zero out the gradients from the old\n",
        "        # instance\n",
        "        model.zero_grad()\n",
        "\n",
        "        # Step 3. Run the forward pass, getting log probabilities over next\n",
        "        # words\n",
        "        log_probs = model(context_idxs)\n",
        "\n",
        "        # Step 4. Compute your loss function. (Again, Torch wants the target\n",
        "        # word wrapped in a tensor)\n",
        "        loss = loss_function(log_probs, torch.tensor([word_to_ix[target]], dtype=torch.long))\n",
        "\n",
        "        # Step 5. Do the backward pass and update the gradient\n",
        "        loss.backward()\n",
        "        optimizer.step()\n",
        "\n",
        "        # Get the Python number from a 1-element Tensor by calling tensor.item()\n",
        "        total_loss += loss.item()\n",
        "    print(\"Loss in Epoch {ep}: {l}\".format(ep=epoch, l=np.round(total_loss, 2))) # The loss decreased every iteration over the training data!\n",
        "    losses.append(total_loss)"
      ],
      "metadata": {
        "colab": {
          "base_uri": "https://localhost:8080/"
        },
        "id": "FbPuck6EPn2x",
        "outputId": "7836e529-d131-48bc-ae31-58bd1595c776"
      },
      "execution_count": null,
      "outputs": [
        {
          "output_type": "stream",
          "name": "stdout",
          "text": [
            "[(['When', 'forty'], 'winters'), (['forty', 'winters'], 'shall'), (['winters', 'shall'], 'besiege')]\n",
            "Loss in Epoch 0: 519.75\n",
            "Loss in Epoch 1: 517.3\n",
            "Loss in Epoch 2: 514.87\n",
            "Loss in Epoch 3: 512.45\n",
            "Loss in Epoch 4: 510.04\n",
            "Loss in Epoch 5: 507.65\n",
            "Loss in Epoch 6: 505.26\n",
            "Loss in Epoch 7: 502.89\n",
            "Loss in Epoch 8: 500.53\n",
            "Loss in Epoch 9: 498.18\n"
          ]
        }
      ]
    },
    {
      "cell_type": "markdown",
      "source": [
        "# Exercise: Computing Word Embeddings: Continuous Bag-of-Words\n",
        "\n",
        "The Continuous Bag-of-Words model (CBOW) is frequently used in NLP deep\n",
        "learning. It is a model that tries to predict words given the context of\n",
        "a few words before and a few words after the target word. This is\n",
        "distinct from language modeling, since CBOW is not sequential and does\n",
        "not have to be probabilistic. Typcially, CBOW is used to quickly train\n",
        "word embeddings, and these embeddings are used to initialize the\n",
        "embeddings of some more complicated model. Usually, this is referred to\n",
        "as *pretraining embeddings*. It almost always helps performance a couple\n",
        "of percent.\n",
        "\n",
        "The CBOW model is as follows. Given a target word $w_i$ and an\n",
        "$N$ context window on each side, $w_{i-1}, \\dots, w_{i-N}$\n",
        "and $w_{i+1}, \\dots, w_{i+N}$, referring to all context words\n",
        "collectively as $C$, CBOW tries to minimize\n",
        "\n",
        "\\begin{align}-\\log p(w_i | C) = -\\log \\text{Softmax}(A(\\sum_{w \\in C} q_w) + b)\\end{align}\n",
        "\n",
        "where $q_w$ is the embedding for word $w$.\n"
      ],
      "metadata": {
        "id": "7fV7zUnlz7xp"
      }
    },
    {
      "cell_type": "markdown",
      "source": [
        "## Exercise Layout\n",
        "### 1. <u>Training CBOW Embeddings</u>\n",
        "1.1) Implement a CBOW Model by completing ```class CBOW(nn.Module)``` and train it on ```raw_text```.    \n",
        "\n",
        "1.2) Load Datasets ```tripadvisor_hotel_reviews_reduced.csv``` and ```scifi_reduced.txt```.     \n",
        "\n",
        "1.3) Decide preprocessing steps by completing the function ```def custom_preprocess()```. Describe your decisions. Note that it's your choice to create different preprocessing functions for hotel reviews and scifi datasets or use the same preprocessing function.             \n",
        "\n",
        "1.4) Train CBOW2 with a context width of 2 (in both directions) for the Hotel Reviews dataset.   \n",
        "\n",
        "1.5) Train CBOW5 with a context width of 5 (in both directions) for the Hotel Reviews dataset. Are predictions made by the model sensitive towards the context size?\n",
        "     \n",
        "1.6) Train CBOW2 with a context width of 2 (in both directions) for the Sci-Fi story dataset.  \n",
        "\n",
        "\n",
        "### 2. <u>Test your Embeddings</u>\n",
        "Note - Do the following for CBOW2, and optionally for CBOW5\n",
        "\n",
        "2.1) For the hotel reviews dataset, choose 3 nouns, 3 verbs, and 3 adjectives. Make sure that some nouns/verbs/adjectives occur frequently in the corpus and that others are rare. For each of the 9 chosen words, retrieve the 5 closest words according to your trained CBOW2 model. List them in your report and comment on the performance of your model: do the neighbours the model provides make sense? Discuss.   \n",
        "\n",
        "2.2) Do the same for Sci-Fi dataset.   \n",
        "\n",
        "2.3) How does the quality of the hotel review-based embeddings compare with the Sci-fi-based embeddings? Elaborate.   \n",
        "\n",
        "2.4) Choose 2 words and retrieve their 5 closest neighbours according to hotel review-based embeddings and the Sci-fi-based embeddings. Do they have different neighbours? If yes, can you reason why?    \n",
        "\n",
        "2.5) What are the differences between CBOW2 and CBOW5 ? Can you \"describe\" them?   \n"
      ],
      "metadata": {
        "id": "Pj_2_qqM7Md_"
      }
    },
    {
      "cell_type": "markdown",
      "source": [
        "### Tips\n",
        "\n",
        "1. Switch from CPU to a GPU instance after you have confirmed that your training procedure is working correctly.\n",
        "2. You can always save your intermediate results (embeddings, preprocessed dataset, model, etc.) in your google drive via colab\n"
      ],
      "metadata": {
        "id": "Xvo1QvEf-iT2"
      }
    },
    {
      "cell_type": "markdown",
      "source": [
        "\n",
        "### 1.1 Create a CBOW Model by completing ```class CBOW(nn.Module)``` and test it on ```raw_text```\n",
        "Implement CBOW in Pytorch by filling in the class below. Some\n",
        "tips:\n",
        "\n",
        "* Think about which parameters you need to define.\n",
        "* Make sure you know what shape each operation expects. Use .view() if you need to\n",
        "  reshape."
      ],
      "metadata": {
        "id": "vfG8j2JiRMly"
      }
    },
    {
      "cell_type": "code",
      "source": [
        "CONTEXT_SIZE = 2  # 2 words to the left, 2 to the right\n",
        "raw_text = \"\"\"We are about to study the idea of a computational process.\n",
        "Computational processes are abstract beings that inhabit computers.\n",
        "As they evolve, processes manipulate other abstract things called data.\n",
        "The evolution of a process is directed by a pattern of rules\n",
        "called a program. People create programs to direct processes. In effect,\n",
        "we conjure the spirits of the computer with our spells.\"\"\".split()\n",
        "\n",
        "# By deriving a set from `raw_text`, we deduplicate the array\n",
        "vocab = set(raw_text)\n",
        "vocab_size = len(vocab)\n",
        "\n",
        "word_to_ix = {word: i for i, word in enumerate(vocab)}\n",
        "data = []\n",
        "for i in range(2, len(raw_text) - 2):\n",
        "    context = [raw_text[i - 2], raw_text[i - 1],\n",
        "               raw_text[i + 1], raw_text[i + 2]]\n",
        "    target = raw_text[i]\n",
        "    data.append((context, target))\n",
        "print(data[:5])\n",
        "\n",
        "\n",
        "class CBOW(nn.Module):\n",
        "    def __init__(self, vocab_size, embedding_dim):\n",
        "        super(CBOW, self).__init__()\n",
        "        self.embeddings = nn.Embedding(vocab_size, embedding_dim)\n",
        "        self.linear1 = nn.Linear(embedding_dim, vocab_size)\n",
        "        self.activation_fn = nn.LogSoftmax(dim=-1)\n",
        "\n",
        "    def forward(self, inputs):\n",
        "        # Get embeddings for context words\n",
        "        embeds = self.embeddings(inputs)\n",
        "        # Aggregate embeddings (mean or sum)\n",
        "        embeds = torch.mean(embeds, dim=0).view(1, -1)\n",
        "        # Pass through linear layer and activation\n",
        "        out = self.activation_fn(self.linear1(embeds))\n",
        "        return out\n",
        "\n",
        "# create your model and train.  here are some functions to help you make\n",
        "# the data ready for use by your module\n",
        "\n",
        "\n",
        "def make_context_vector(context, word_to_ix):\n",
        "    idxs = [word_to_ix[w] for w in context]\n",
        "    return torch.tensor(idxs, dtype=torch.long)\n",
        "\n",
        "\n",
        "make_context_vector(data[0][0], word_to_ix)  # example"
      ],
      "metadata": {
        "id": "YD26-qBLPxU8",
        "colab": {
          "base_uri": "https://localhost:8080/"
        },
        "outputId": "59fe6e30-ccd0-4313-91c9-c9cb4eb71efe"
      },
      "execution_count": null,
      "outputs": [
        {
          "output_type": "stream",
          "name": "stdout",
          "text": [
            "[(['We', 'are', 'to', 'study'], 'about'), (['are', 'about', 'study', 'the'], 'to'), (['about', 'to', 'the', 'idea'], 'study'), (['to', 'study', 'idea', 'of'], 'the'), (['study', 'the', 'of', 'a'], 'idea')]\n"
          ]
        },
        {
          "output_type": "execute_result",
          "data": {
            "text/plain": [
              "tensor([19, 38, 30, 43])"
            ]
          },
          "metadata": {},
          "execution_count": 5
        }
      ]
    },
    {
      "cell_type": "code",
      "source": [
        "model =  CBOW(vocab_size, embedding_dim = 100)\n",
        "loss_function = nn.NLLLoss()\n",
        "optimizer = optim.SGD(model.parameters(), lr=0.001)\n",
        "device = 'cpu'\n",
        "model.to(device)\n",
        "\n",
        "\n",
        "for epoch in range(20):\n",
        "    total_loss = 0\n",
        "    for context, target in data:\n",
        "        context_vector = make_context_vector(context, word_to_ix)\n",
        "        context_vector = context_vector.to(device)\n",
        "\n",
        "        # Zero the gradients\n",
        "        optimizer.zero_grad()\n",
        "\n",
        "        # Forward pass\n",
        "        out = model(context_vector)\n",
        "\n",
        "        # Compute loss\n",
        "        loss = loss_function(out, torch.tensor([word_to_ix[target]], dtype=torch.long, device=device))\n",
        "        total_loss += loss.item()\n",
        "\n",
        "        # Backward pass and optimization\n",
        "        loss.backward()\n",
        "        optimizer.step()\n",
        "\n",
        "    print(f\"Loss in Epoch {epoch}: {total_loss:.2f}\")"
      ],
      "metadata": {
        "colab": {
          "base_uri": "https://localhost:8080/"
        },
        "id": "KN_6omCQsLjl",
        "outputId": "6251909b-5f21-44fc-ea7b-5706e8fd7292"
      },
      "execution_count": null,
      "outputs": [
        {
          "output_type": "stream",
          "name": "stdout",
          "text": [
            "Loss in Epoch 0: 232.50\n",
            "Loss in Epoch 1: 231.02\n",
            "Loss in Epoch 2: 229.54\n",
            "Loss in Epoch 3: 228.07\n",
            "Loss in Epoch 4: 226.60\n",
            "Loss in Epoch 5: 225.14\n",
            "Loss in Epoch 6: 223.69\n",
            "Loss in Epoch 7: 222.24\n",
            "Loss in Epoch 8: 220.80\n",
            "Loss in Epoch 9: 219.36\n",
            "Loss in Epoch 10: 217.93\n",
            "Loss in Epoch 11: 216.51\n",
            "Loss in Epoch 12: 215.09\n",
            "Loss in Epoch 13: 213.67\n",
            "Loss in Epoch 14: 212.27\n",
            "Loss in Epoch 15: 210.86\n",
            "Loss in Epoch 16: 209.47\n",
            "Loss in Epoch 17: 208.08\n",
            "Loss in Epoch 18: 206.70\n",
            "Loss in Epoch 19: 205.32\n"
          ]
        }
      ]
    },
    {
      "cell_type": "markdown",
      "source": [
        "### 1.2 Load Datasets"
      ],
      "metadata": {
        "id": "9NbVpFkR77uv"
      }
    },
    {
      "cell_type": "code",
      "source": [
        "### Load Datasets tripadvisor_hotel_reviews_reduced.csv and scifi_reduced.txt\n",
        "\n",
        "!gdown 1foE1JuZJeu5E_4qVge9kExzhvF32teuF # For Hotel Reviews\n",
        "!gdown 13IWXrTjGTrfCd9l7dScZVO8ZvMicPU75 # For Scifi-Text"
      ],
      "metadata": {
        "id": "i4XpJnxV79rK",
        "colab": {
          "base_uri": "https://localhost:8080/"
        },
        "outputId": "4e01d33b-1f61-4b7a-b51f-72681c286ab7"
      },
      "execution_count": 7,
      "outputs": [
        {
          "output_type": "stream",
          "name": "stdout",
          "text": [
            "Downloading...\n",
            "From: https://drive.google.com/uc?id=1foE1JuZJeu5E_4qVge9kExzhvF32teuF\n",
            "To: /content/tripadvisor_hotel_reviews_reduced.csv\n",
            "100% 7.36M/7.36M [00:00<00:00, 213MB/s]\n",
            "Downloading...\n",
            "From: https://drive.google.com/uc?id=13IWXrTjGTrfCd9l7dScZVO8ZvMicPU75\n",
            "To: /content/scifi_reduced.txt\n",
            "100% 43.1M/43.1M [00:00<00:00, 113MB/s] \n"
          ]
        }
      ]
    },
    {
      "cell_type": "markdown",
      "source": [
        "### 1.3 Preprocess Datasets\n",
        "### 🗒❓ Describe your decisions for preprocessing the datasets"
      ],
      "metadata": {
        "id": "F9AUsLd78JVv"
      }
    },
    {
      "cell_type": "code",
      "source": [
        "import re\n",
        "import spacy\n",
        "import pandas as pd\n",
        "from tqdm import tqdm\n",
        "from collections import Counter\n",
        "import torch\n",
        "from torch.utils.data import Dataset, DataLoader\n",
        "import torch.nn as nn\n",
        "import torch.optim as optim\n",
        "import torch.nn.functional as F"
      ],
      "metadata": {
        "id": "LmJzoSb7K_d-"
      },
      "execution_count": 2,
      "outputs": []
    },
    {
      "cell_type": "code",
      "source": [
        "spacy.cli.download(\"en_core_web_md\")\n",
        "nlp = spacy.load('en_core_web_md', disable=['parser', 'ner'])"
      ],
      "metadata": {
        "colab": {
          "base_uri": "https://localhost:8080/"
        },
        "id": "HnTNmzq8LEo7",
        "outputId": "5ca41f15-fa0f-4ad3-b92f-261df50f2ec9"
      },
      "execution_count": 3,
      "outputs": [
        {
          "output_type": "stream",
          "name": "stdout",
          "text": [
            "\u001b[38;5;2m✔ Download and installation successful\u001b[0m\n",
            "You can now load the package via spacy.load('en_core_web_md')\n",
            "\u001b[38;5;3m⚠ Restart to reload dependencies\u001b[0m\n",
            "If you are in a Jupyter or Colab notebook, you may need to restart Python in\n",
            "order to load all the package's dependencies. You can do this by selecting the\n",
            "'Restart kernel' or 'Restart runtime' option.\n"
          ]
        }
      ]
    },
    {
      "cell_type": "code",
      "source": [
        "### Complete the preprocessing function and apply it to the datasets\n",
        "def custom_preprocess(text, is_sci_fi=False):\n",
        "\n",
        "    # Convert to lowercase and remove punctuation using regex\n",
        "    text = re.sub(r'[^\\w\\s]', '', text.lower())\n",
        "    doc = nlp(text)\n",
        "\n",
        "    # Define stop words\n",
        "    stop_words = nlp.Defaults.stop_words\n",
        "\n",
        "    # Remove stop words and lemmatize\n",
        "    tokens = [token.lemma_ for token in doc if token.lemma_ not in stop_words and not token.is_space]\n",
        "\n",
        "    return tokens"
      ],
      "metadata": {
        "id": "9AEF16-v9Erc"
      },
      "execution_count": 4,
      "outputs": []
    },
    {
      "cell_type": "code",
      "source": [
        "# Read and process the hotel reviews dataset\n",
        "print(\"Processing Hotel Reviews Dataset...\")\n",
        "df_reviews = pd.read_csv(\"tripadvisor_hotel_reviews_reduced.csv\")\n",
        "# Assume the reviews are in a column named 'Review'\n",
        "reviews = df_reviews['Review'].tolist()\n",
        "\n",
        "# Process each review individually\n",
        "hotel_reviews_processed = []\n",
        "for review in tqdm(reviews, desc=\"Processing TripAdvisor\"):\n",
        "    hotel_reviews_processed.extend(custom_preprocess(review))\n",
        "\n",
        "print(f\"Total tokens in Hotel Reviews: {len(hotel_reviews_processed)}\")"
      ],
      "metadata": {
        "colab": {
          "base_uri": "https://localhost:8080/"
        },
        "id": "gg9XMektLMi2",
        "outputId": "15536815-9dc6-431a-dd5b-979c6bdbf3a2"
      },
      "execution_count": 5,
      "outputs": [
        {
          "output_type": "stream",
          "name": "stdout",
          "text": [
            "Processing Hotel Reviews Dataset...\n"
          ]
        },
        {
          "output_type": "stream",
          "name": "stderr",
          "text": [
            "Processing TripAdvisor: 100%|██████████| 10000/10000 [01:31<00:00, 109.38it/s]"
          ]
        },
        {
          "output_type": "stream",
          "name": "stdout",
          "text": [
            "Total tokens in Hotel Reviews: 969935\n"
          ]
        },
        {
          "output_type": "stream",
          "name": "stderr",
          "text": [
            "\n"
          ]
        }
      ]
    },
    {
      "cell_type": "code",
      "source": [
        "from tqdm import tqdm\n",
        "\n",
        "# Read and process the sci-fi story dataset\n",
        "print(\"\\nProcessing Sci-Fi Story Dataset...\")\n",
        "with open(\"scifi_reduced.txt\", \"r\") as f:\n",
        "    sci_fi_text = f.read()\n",
        "\n",
        "# Function to split text by word count\n",
        "def split_by_word_count(text, word_count=500):\n",
        "    words = text.split()\n",
        "    for i in range(0, len(words), word_count):\n",
        "        yield \" \".join(words[i:i + word_count])\n",
        "\n",
        "print(sci_fi_text[:200])"
      ],
      "metadata": {
        "colab": {
          "base_uri": "https://localhost:8080/"
        },
        "id": "Un-WzY6hLdei",
        "outputId": "7ee82c86-20ff-41a3-c11c-8165ad36d688"
      },
      "execution_count": 6,
      "outputs": [
        {
          "output_type": "stream",
          "name": "stdout",
          "text": [
            "\n",
            "Processing Sci-Fi Story Dataset...\n",
            " A chat with the editor  i #  science fiction magazine called IF. The title was selected after much thought because of its brevity and on the theory it is indicative of the field and will be easy to r\n"
          ]
        }
      ]
    },
    {
      "cell_type": "code",
      "source": [
        "# Initialize an empty list to store processed tokens\n",
        "sci_fi_story_processed = []\n",
        "\n",
        "# Process each chunk with a progress bar\n",
        "for chunk in tqdm(split_by_word_count(sci_fi_text), desc=\"Processing Sci-Fi Story\"):\n",
        "    tokens = custom_preprocess(chunk, is_sci_fi=True)\n",
        "    sci_fi_story_processed.extend(tokens)\n",
        "\n",
        "print(f\"Total tokens in Sci-Fi Story: {len(sci_fi_story_processed)}\")"
      ],
      "metadata": {
        "colab": {
          "base_uri": "https://localhost:8080/"
        },
        "id": "5Go4mkzmLlIs",
        "outputId": "72847310-f155-4dc4-d09b-ff713f278329"
      },
      "execution_count": 7,
      "outputs": [
        {
          "output_type": "stream",
          "name": "stderr",
          "text": [
            "Processing Sci-Fi Story: 15390it [08:10, 31.41it/s]"
          ]
        },
        {
          "output_type": "stream",
          "name": "stdout",
          "text": [
            "Total tokens in Sci-Fi Story: 3420668\n"
          ]
        },
        {
          "output_type": "stream",
          "name": "stderr",
          "text": [
            "\n"
          ]
        }
      ]
    },
    {
      "cell_type": "code",
      "source": [
        "# Vocabulary creation with frequency threshold\n",
        "def create_vocab(tokens, min_freq):\n",
        "    word_counts = Counter(tokens)\n",
        "    vocab = [word for word, count in word_counts.items() if count >= min_freq]\n",
        "    word_to_ix = {word: i for i, word in enumerate(vocab)}\n",
        "    return vocab, word_to_ix\n",
        "\n",
        "# Set minimum frequency thresholds\n",
        "min_freq_reviews = 2\n",
        "min_freq_sci_fi = 2\n",
        "\n",
        "print(\"\\nCreating Vocabulary for Hotel Reviews...\")\n",
        "vocab_reviews, word_to_ix_reviews = create_vocab(hotel_reviews_processed, min_freq_reviews)\n",
        "print(f\"Vocabulary size for Hotel Reviews: {len(vocab_reviews)}\")\n",
        "\n",
        "print(\"\\nCreating Vocabulary for Sci-Fi Story...\")\n",
        "vocab_sci_fi, word_to_ix_sci_fi = create_vocab(sci_fi_story_processed, min_freq_sci_fi)\n",
        "print(f\"Vocabulary size for Sci-Fi Story: {len(vocab_sci_fi)}\")"
      ],
      "metadata": {
        "colab": {
          "base_uri": "https://localhost:8080/"
        },
        "id": "h4-uZlnuLs8Q",
        "outputId": "5ed7a6e0-25ca-4cb3-a3d1-a1fe50e19b1b"
      },
      "execution_count": 8,
      "outputs": [
        {
          "output_type": "stream",
          "name": "stdout",
          "text": [
            "\n",
            "Creating Vocabulary for Hotel Reviews...\n",
            "Vocabulary size for Hotel Reviews: 17475\n",
            "\n",
            "Creating Vocabulary for Sci-Fi Story...\n",
            "Vocabulary size for Sci-Fi Story: 50005\n"
          ]
        }
      ]
    },
    {
      "cell_type": "code",
      "source": [
        "def create_context_target_pairs(tokens, context_size, word_to_ix):\n",
        "    data = []\n",
        "    for i in range(context_size, len(tokens) - context_size):\n",
        "        context = [tokens[i + j] for j in range(-context_size, context_size + 1) if j != 0]\n",
        "        target = tokens[i]\n",
        "        # Skip if target or context words are not in the vocabulary\n",
        "        if target in word_to_ix and all(word in word_to_ix for word in context):\n",
        "            data.append((context, target))\n",
        "    return data\n",
        "\n",
        "# Create context-target pairs for Hotel Reviews with context sizes 2 and 5\n",
        "print(\"\\nCreating context-target pairs for Hotel Reviews...\")\n",
        "context_size_cbow2 = 2\n",
        "data_reviews_cbow2 = create_context_target_pairs(hotel_reviews_processed, context_size_cbow2, word_to_ix_reviews)\n",
        "print(f\"Total pairs for CBOW2 (Hotel Reviews): {len(data_reviews_cbow2)}\")\n",
        "\n",
        "context_size_cbow5 = 5\n",
        "data_reviews_cbow5 = create_context_target_pairs(hotel_reviews_processed, context_size_cbow5, word_to_ix_reviews)\n",
        "print(f\"Total 5-grams for CBOW5 (Hotel Reviews): {len(data_reviews_cbow5)}\")\n",
        "\n",
        "# Create context-target pairs for Sci-Fi Story with context size 2\n",
        "print(\"\\nCreating context-target pairs for Sci-Fi Story...\")\n",
        "context_size_sci_fi_cbow2 = 2\n",
        "data_sci_fi_cbow2 = create_context_target_pairs(sci_fi_story_processed, context_size_sci_fi_cbow2, word_to_ix_sci_fi)\n",
        "print(f\"Total pairs for CBOW2 (Sci-Fi Story): {len(data_sci_fi_cbow2)}\")"
      ],
      "metadata": {
        "colab": {
          "base_uri": "https://localhost:8080/"
        },
        "id": "5B-EuSSzLtRw",
        "outputId": "b1d430a4-b07e-4bef-b268-d6faef4fca3c"
      },
      "execution_count": 9,
      "outputs": [
        {
          "output_type": "stream",
          "name": "stdout",
          "text": [
            "\n",
            "Creating context-target pairs for Hotel Reviews...\n",
            "Total pairs for CBOW2 (Hotel Reviews): 834626\n",
            "Total 5-grams for CBOW5 (Hotel Reviews): 703888\n",
            "\n",
            "Creating context-target pairs for Sci-Fi Story...\n",
            "Total pairs for CBOW2 (Sci-Fi Story): 3127097\n"
          ]
        }
      ]
    },
    {
      "cell_type": "code",
      "source": [
        "# Define Dataset class\n",
        "class CBOWDataset(Dataset):\n",
        "    def __init__(self, data, word_to_ix):\n",
        "        self.data = data\n",
        "        self.word_to_ix = word_to_ix\n",
        "\n",
        "    def __len__(self):\n",
        "        return len(self.data)\n",
        "\n",
        "    def __getitem__(self, idx):\n",
        "        context, target = self.data[idx]\n",
        "        context_idxs = torch.tensor([self.word_to_ix[w] for w in context], dtype=torch.long)\n",
        "        target_idx = torch.tensor(self.word_to_ix[target], dtype=torch.long)\n",
        "        return context_idxs, target_idx\n",
        "\n",
        "# Create DataLoaders\n",
        "batch_size = 124\n",
        "\n",
        "# Hotel Reviews CBOW2\n",
        "dataset_reviews_cbow2 = CBOWDataset(data_reviews_cbow2, word_to_ix_reviews)\n",
        "dataloader_reviews_cbow2 = DataLoader(dataset_reviews_cbow2, batch_size=batch_size, shuffle=True)\n",
        "\n",
        "# Hotel Reviews CBOW5\n",
        "dataset_reviews_cbow5 = CBOWDataset(data_reviews_cbow5, word_to_ix_reviews)\n",
        "dataloader_reviews_cbow5 = DataLoader(dataset_reviews_cbow5, batch_size=batch_size, shuffle=True)\n",
        "\n",
        "# Sci-Fi Story CBOW2\n",
        "dataset_sci_fi_cbow2 = CBOWDataset(data_sci_fi_cbow2, word_to_ix_sci_fi)\n",
        "dataloader_sci_fi_cbow2 = DataLoader(dataset_sci_fi_cbow2, batch_size=batch_size, shuffle=True)"
      ],
      "metadata": {
        "id": "mJu8VTsSLtYi"
      },
      "execution_count": 41,
      "outputs": []
    },
    {
      "cell_type": "markdown",
      "source": [
        "### 1.4 Train CBOW2 with a context width of 2 (in both directions) for the Hotel Reviews dataset."
      ],
      "metadata": {
        "id": "5UEHh3zP9nUn"
      }
    },
    {
      "cell_type": "code",
      "source": [
        "import torch\n",
        "import torch.nn as nn\n",
        "import torch.optim as optim\n",
        "import numpy as np\n",
        "from torch.utils.data import DataLoader, Dataset\n",
        "\n",
        "# Define CBOW Model with Negative Sampling\n",
        "class MinimalCBOWNegativeSampling(nn.Module):\n",
        "    def __init__(self, vocab_size, embedding_dim):\n",
        "        super(MinimalCBOWNegativeSampling, self).__init__()\n",
        "        self.embeddings = nn.Embedding(vocab_size, embedding_dim)\n",
        "\n",
        "        # Initialize embeddings\n",
        "        self.embeddings.weight.data.uniform_(-0.5 / embedding_dim, 0.5 / embedding_dim)\n",
        "\n",
        "    def forward(self, context_words, target_words, negative_words):\n",
        "        # Get embeddings for context words and compute mean\n",
        "        context_embeds = self.embeddings(context_words)      # [batch_size, context_size, embedding_dim]\n",
        "        context_mean = torch.mean(context_embeds, dim=1)     # [batch_size, embedding_dim]\n",
        "\n",
        "        # Positive and negative word embeddings\n",
        "        pos_embeds = self.embeddings(target_words).squeeze(1)  # [batch_size, embedding_dim]\n",
        "        neg_embeds = self.embeddings(negative_words)           # [batch_size, K, embedding_dim]\n",
        "\n",
        "        # Calculate positive and negative scores\n",
        "        pos_scores = torch.sum(context_mean * pos_embeds, dim=1)   # [batch_size]\n",
        "        neg_scores = torch.bmm(neg_embeds, context_mean.unsqueeze(2)).squeeze(2)  # [batch_size, K]\n",
        "\n",
        "        return pos_scores, neg_scores\n",
        "\n",
        "# Negative Sampling Function\n",
        "def sample_negatives_uniformly(vocab_size, batch_size, K):\n",
        "    \"\"\"Samples negative words uniformly from the vocabulary\"\"\"\n",
        "    return torch.randint(0, vocab_size, (batch_size, K))\n",
        "\n",
        "# Initialize the model, loss, and optimizer\n",
        "embedding_dim = 19\n",
        "vocab_size = len(word_to_ix_reviews)\n",
        "\n",
        "model = MinimalCBOWNegativeSampling(vocab_size, embedding_dim)\n",
        "optimizer = optim.SGD(model.parameters(), lr=0.01)\n",
        "criterion = nn.BCEWithLogitsLoss()\n",
        "\n",
        "# Training function\n",
        "def train_minimal_cbow(model, dataloader, criterion, optimizer, vocab_size, num_epochs=50, K=5):\n",
        "    model.train()\n",
        "    for epoch in range(num_epochs):\n",
        "        total_loss = 0\n",
        "        for context_words, target_word in dataloader:\n",
        "            # Move data to the appropriate device\n",
        "            context_words = context_words.to(device)\n",
        "            target_word = target_word.to(device).unsqueeze(1)  # [batch_size, 1]\n",
        "\n",
        "            # Sample negative words\n",
        "            negative_words = sample_negatives_uniformly(vocab_size, context_words.size(0), K).to(device)  # [batch_size, K]\n",
        "\n",
        "            # Forward pass\n",
        "            pos_scores, neg_scores = model(context_words, target_word, negative_words)\n",
        "\n",
        "            # Define positive and negative labels\n",
        "            pos_labels = torch.ones(pos_scores.size(0), device=device)      # [batch_size]\n",
        "            neg_labels = torch.zeros(neg_scores.size(0) * neg_scores.size(1), device=device)  # [batch_size * K]\n",
        "\n",
        "            # Flatten neg_scores for loss calculation\n",
        "            neg_scores = neg_scores.view(-1)  # [batch_size * K]\n",
        "\n",
        "            # Compute losses\n",
        "            loss_pos = criterion(pos_scores, pos_labels)\n",
        "            loss_neg = criterion(neg_scores, neg_labels)\n",
        "            loss = loss_pos + loss_neg\n",
        "\n",
        "            # Backward pass and optimization\n",
        "            optimizer.zero_grad()\n",
        "            loss.backward()\n",
        "            optimizer.step()\n",
        "\n",
        "            total_loss += loss.item()\n",
        "\n",
        "        avg_loss = total_loss / len(dataloader)\n",
        "        print(f'Epoch [{epoch+1}/{num_epochs}], Loss: {avg_loss:.4f}')\n",
        "\n",
        "# Device configuration\n",
        "device = torch.device(\"cuda\" if torch.cuda.is_available() else \"cpu\")\n",
        "model.to(device)"
      ],
      "metadata": {
        "id": "pnMAbYUI9wtI",
        "colab": {
          "base_uri": "https://localhost:8080/"
        },
        "outputId": "693ae4b5-8439-43bb-eea3-2d2042072ce9"
      },
      "execution_count": 42,
      "outputs": [
        {
          "output_type": "execute_result",
          "data": {
            "text/plain": [
              "MinimalCBOWNegativeSampling(\n",
              "  (embeddings): Embedding(17475, 19)\n",
              ")"
            ]
          },
          "metadata": {},
          "execution_count": 42
        }
      ]
    },
    {
      "cell_type": "code",
      "source": [
        "# Initialize model, criterion, and optimizer\n",
        "embedding_dim = 19\n",
        "vocab_size = len(word_to_ix_reviews)\n",
        "num_epochs = 50\n",
        "\n",
        "model_cbow2 = MinimalCBOWNegativeSampling(vocab_size, embedding_dim)\n",
        "optimizer = optim.SGD(model_cbow2.parameters(), lr=0.01)\n",
        "criterion = nn.BCEWithLogitsLoss()\n",
        "\n",
        "# Device configuration\n",
        "device = torch.device(\"cuda\" if torch.cuda.is_available() else \"cpu\")\n",
        "model_cbow2.to(device)\n",
        "\n",
        "# Train CBOW5 Model with context size of 5\n",
        "train_minimal_cbow(model_cbow2, dataloader_reviews_cbow2, criterion, optimizer, vocab_size, num_epochs=num_epochs, K=5)"
      ],
      "metadata": {
        "colab": {
          "base_uri": "https://localhost:8080/"
        },
        "id": "a7NU1H-iWP2P",
        "outputId": "01d1e687-e8eb-4c34-9f54-3a07ffdc8a1d"
      },
      "execution_count": 38,
      "outputs": [
        {
          "output_type": "stream",
          "name": "stdout",
          "text": [
            "Epoch [1/50], Loss: 1.3863\n",
            "Epoch [2/50], Loss: 1.3862\n",
            "Epoch [3/50], Loss: 1.3862\n",
            "Epoch [4/50], Loss: 1.3860\n",
            "Epoch [5/50], Loss: 1.3856\n",
            "Epoch [6/50], Loss: 1.3846\n",
            "Epoch [7/50], Loss: 1.3821\n",
            "Epoch [8/50], Loss: 1.3768\n",
            "Epoch [9/50], Loss: 1.3665\n",
            "Epoch [10/50], Loss: 1.3503\n",
            "Epoch [11/50], Loss: 1.3295\n",
            "Epoch [12/50], Loss: 1.3060\n",
            "Epoch [13/50], Loss: 1.2813\n",
            "Epoch [14/50], Loss: 1.2567\n",
            "Epoch [15/50], Loss: 1.2327\n",
            "Epoch [16/50], Loss: 1.2100\n",
            "Epoch [17/50], Loss: 1.1887\n",
            "Epoch [18/50], Loss: 1.1690\n",
            "Epoch [19/50], Loss: 1.1510\n",
            "Epoch [20/50], Loss: 1.1346\n",
            "Epoch [21/50], Loss: 1.1192\n",
            "Epoch [22/50], Loss: 1.1053\n",
            "Epoch [23/50], Loss: 1.0923\n",
            "Epoch [24/50], Loss: 1.0805\n",
            "Epoch [25/50], Loss: 1.0697\n",
            "Epoch [26/50], Loss: 1.0596\n",
            "Epoch [27/50], Loss: 1.0503\n",
            "Epoch [28/50], Loss: 1.0415\n",
            "Epoch [29/50], Loss: 1.0333\n",
            "Epoch [30/50], Loss: 1.0253\n",
            "Epoch [31/50], Loss: 1.0181\n",
            "Epoch [32/50], Loss: 1.0114\n",
            "Epoch [33/50], Loss: 1.0047\n",
            "Epoch [34/50], Loss: 0.9985\n",
            "Epoch [35/50], Loss: 0.9923\n",
            "Epoch [36/50], Loss: 0.9866\n",
            "Epoch [37/50], Loss: 0.9810\n",
            "Epoch [38/50], Loss: 0.9759\n",
            "Epoch [39/50], Loss: 0.9711\n",
            "Epoch [40/50], Loss: 0.9668\n",
            "Epoch [41/50], Loss: 0.9618\n",
            "Epoch [42/50], Loss: 0.9569\n",
            "Epoch [43/50], Loss: 0.9530\n",
            "Epoch [44/50], Loss: 0.9481\n",
            "Epoch [45/50], Loss: 0.9445\n",
            "Epoch [46/50], Loss: 0.9403\n",
            "Epoch [47/50], Loss: 0.9368\n",
            "Epoch [48/50], Loss: 0.9329\n",
            "Epoch [49/50], Loss: 0.9289\n",
            "Epoch [50/50], Loss: 0.9257\n"
          ]
        }
      ]
    },
    {
      "cell_type": "markdown",
      "source": [
        "### 1.5 Train CBOW5 with a context width of 5 (in both directions) for the Hotel Reviews dataset.  \n",
        "\n",
        "🗒❓ Are predictions made by the model sensitive towards the context size?"
      ],
      "metadata": {
        "id": "qn7teyu7987m"
      }
    },
    {
      "cell_type": "code",
      "source": [
        "# Initialize model, criterion, and optimizer\n",
        "embedding_dim = 19\n",
        "vocab_size = len(word_to_ix_reviews)\n",
        "num_epochs = 50\n",
        "\n",
        "model_cbow5 = MinimalCBOWNegativeSampling(vocab_size, embedding_dim)\n",
        "optimizer = optim.SGD(model_cbow5.parameters(), lr=0.01)\n",
        "criterion = nn.BCEWithLogitsLoss()\n",
        "\n",
        "# Device configuration\n",
        "device = torch.device(\"cuda\" if torch.cuda.is_available() else \"cpu\")\n",
        "model_cbow5.to(device)\n",
        "\n",
        "# Train CBOW5 Model with context size of 5\n",
        "train_minimal_cbow(model_cbow5, dataloader_reviews_cbow5, criterion, optimizer, vocab_size, num_epochs=num_epochs, K=5)"
      ],
      "metadata": {
        "id": "vHVDR0bq-Cqc",
        "colab": {
          "base_uri": "https://localhost:8080/"
        },
        "outputId": "4c7fbcc9-30e1-4a1d-ac56-c06dab1c0361"
      },
      "execution_count": 46,
      "outputs": [
        {
          "output_type": "stream",
          "name": "stdout",
          "text": [
            "Epoch [1/50], Loss: 1.3863\n",
            "Epoch [2/50], Loss: 1.3863\n",
            "Epoch [3/50], Loss: 1.3863\n",
            "Epoch [4/50], Loss: 1.3863\n",
            "Epoch [5/50], Loss: 1.3862\n",
            "Epoch [6/50], Loss: 1.3862\n",
            "Epoch [7/50], Loss: 1.3862\n",
            "Epoch [8/50], Loss: 1.3862\n",
            "Epoch [9/50], Loss: 1.3861\n",
            "Epoch [10/50], Loss: 1.3860\n",
            "Epoch [11/50], Loss: 1.3859\n",
            "Epoch [12/50], Loss: 1.3856\n",
            "Epoch [13/50], Loss: 1.3853\n",
            "Epoch [14/50], Loss: 1.3849\n",
            "Epoch [15/50], Loss: 1.3842\n",
            "Epoch [16/50], Loss: 1.3831\n",
            "Epoch [17/50], Loss: 1.3816\n",
            "Epoch [18/50], Loss: 1.3795\n",
            "Epoch [19/50], Loss: 1.3765\n",
            "Epoch [20/50], Loss: 1.3723\n",
            "Epoch [21/50], Loss: 1.3668\n",
            "Epoch [22/50], Loss: 1.3598\n",
            "Epoch [23/50], Loss: 1.3514\n",
            "Epoch [24/50], Loss: 1.3417\n",
            "Epoch [25/50], Loss: 1.3310\n",
            "Epoch [26/50], Loss: 1.3196\n",
            "Epoch [27/50], Loss: 1.3077\n",
            "Epoch [28/50], Loss: 1.2956\n",
            "Epoch [29/50], Loss: 1.2833\n",
            "Epoch [30/50], Loss: 1.2711\n",
            "Epoch [31/50], Loss: 1.2588\n",
            "Epoch [32/50], Loss: 1.2468\n",
            "Epoch [33/50], Loss: 1.2348\n",
            "Epoch [34/50], Loss: 1.2232\n",
            "Epoch [35/50], Loss: 1.2117\n",
            "Epoch [36/50], Loss: 1.2008\n",
            "Epoch [37/50], Loss: 1.1901\n",
            "Epoch [38/50], Loss: 1.1797\n",
            "Epoch [39/50], Loss: 1.1698\n",
            "Epoch [40/50], Loss: 1.1601\n",
            "Epoch [41/50], Loss: 1.1508\n",
            "Epoch [42/50], Loss: 1.1420\n",
            "Epoch [43/50], Loss: 1.1336\n",
            "Epoch [44/50], Loss: 1.1253\n",
            "Epoch [45/50], Loss: 1.1176\n",
            "Epoch [46/50], Loss: 1.1102\n",
            "Epoch [47/50], Loss: 1.1029\n",
            "Epoch [48/50], Loss: 1.0961\n",
            "Epoch [49/50], Loss: 1.0895\n",
            "Epoch [50/50], Loss: 1.0830\n"
          ]
        }
      ]
    },
    {
      "cell_type": "markdown",
      "source": [
        "### 1.6 Train CBOW2 with a context width of 2 (in both directions) for the Sci-Fi story dataset"
      ],
      "metadata": {
        "id": "AXmEddYd-FSr"
      }
    },
    {
      "cell_type": "code",
      "source": [
        "# Initialize model, criterion, and optimizer\n",
        "embedding_dim = 19\n",
        "vocab_size_sci_fi = len(word_to_ix_sci_fi)\n",
        "num_epochs = 20\n",
        "\n",
        "model_sci_fi_cbow2 = MinimalCBOWNegativeSampling(vocab_size_sci_fi, embedding_dim)\n",
        "optimizer = optim.Adam(model_sci_fi_cbow2.parameters(), lr=0.01)\n",
        "criterion = nn.BCEWithLogitsLoss()\n",
        "\n",
        "# Device configuration\n",
        "device = torch.device(\"cuda\" if torch.cuda.is_available() else \"cpu\")\n",
        "model_sci_fi_cbow2.to(device)\n",
        "\n",
        "# Train CBOW2 Model with context size of 2 for Sci-Fi Story\n",
        "train_minimal_cbow(model_sci_fi_cbow2, dataloader_sci_fi_cbow2, criterion, optimizer, vocab_size_sci_fi, num_epochs=num_epochs, K=4)"
      ],
      "metadata": {
        "id": "2U1S_5Hx-Jku",
        "colab": {
          "base_uri": "https://localhost:8080/"
        },
        "outputId": "7f83998c-a419-400a-eb56-9bbababe7b16"
      },
      "execution_count": 48,
      "outputs": [
        {
          "output_type": "stream",
          "name": "stdout",
          "text": [
            "Epoch [1/20], Loss: 0.7048\n",
            "Epoch [2/20], Loss: 0.6807\n",
            "Epoch [3/20], Loss: 0.6822\n",
            "Epoch [4/20], Loss: 0.6813\n",
            "Epoch [5/20], Loss: 0.6773\n",
            "Epoch [6/20], Loss: 0.6736\n",
            "Epoch [7/20], Loss: 0.6766\n",
            "Epoch [8/20], Loss: 0.6793\n",
            "Epoch [9/20], Loss: 0.6787\n",
            "Epoch [10/20], Loss: 0.6753\n",
            "Epoch [11/20], Loss: 0.6730\n",
            "Epoch [12/20], Loss: 0.6772\n",
            "Epoch [13/20], Loss: 0.6785\n",
            "Epoch [14/20], Loss: 0.6783\n",
            "Epoch [15/20], Loss: 0.6744\n",
            "Epoch [16/20], Loss: 0.6733\n",
            "Epoch [17/20], Loss: 0.6768\n",
            "Epoch [18/20], Loss: 0.6789\n",
            "Epoch [19/20], Loss: 0.6778\n",
            "Epoch [20/20], Loss: 0.6741\n"
          ]
        }
      ]
    },
    {
      "cell_type": "markdown",
      "source": [
        "### 2.1 For the hotel reviews dataset, choose 3 nouns, 3 verbs, and 3 adjectives. (CBOW2 and optionally for CBOW5)\n",
        "Make sure that some nouns/verbs/adjectives occur frequently in the corpus and that others are rare. For each of the 9 chosen words, retrieve the 5 closest words according to your trained CBOW2 model.    \n",
        "\n",
        "🗒❓ List them in your report (at the end of this notebook) and comment on the performance of your model: do the neighbours the model provides make sense? Discuss.   \n"
      ],
      "metadata": {
        "id": "ulqFt2nc_Oq7"
      }
    },
    {
      "cell_type": "code",
      "source": [
        "import torch.nn.functional as F\n",
        "\n",
        "# Function to get the closest words using cosine similarity\n",
        "def get_closest_words(word, word_to_ix, embeddings, top_n=5):\n",
        "    # Get embedding for the target word\n",
        "    word_idx = word_to_ix[word]\n",
        "    word_embedding = embeddings(torch.tensor([word_idx], device=device))\n",
        "\n",
        "    # Compute cosine similarities for all words in a vectorized manner\n",
        "    all_embeddings = embeddings.weight  # [vocab_size, embedding_dim]\n",
        "    cos_similarities = F.cosine_similarity(word_embedding, all_embeddings).cpu().detach().numpy()\n",
        "\n",
        "    # Get top_n closest words (excluding the target word itself)\n",
        "    closest_word_indices = cos_similarities.argsort()[-top_n-1:][::-1][1:]  # Sort and exclude the word itself\n",
        "    closest_words = [list(word_to_ix.keys())[i] for i in closest_word_indices]\n",
        "\n",
        "    return closest_words\n",
        "\n",
        "# Words to test\n",
        "nouns = ['hotel', 'room', 'service']\n",
        "verbs = ['stay', 'enjoy', 'recommend']\n",
        "adjectives = ['clean', 'comfortable', 'friendly']\n",
        "\n",
        "# Get embeddings from the model\n",
        "embeddings = model_cbow2.embeddings  # Access the embedding layer of your MinimalCBOWNegativeSampling model\n",
        "\n",
        "# Find and print closest words\n",
        "for category, words in [('Nouns', nouns), ('Verbs', verbs), ('Adjectives', adjectives)]:\n",
        "    print(f\"\\n{category}:\")\n",
        "    for word in words:\n",
        "        closest = get_closest_words(word, word_to_ix_reviews, embeddings)\n",
        "        print(f\"{word}: {closest}\")"
      ],
      "metadata": {
        "id": "PRhW1MSU_byy",
        "colab": {
          "base_uri": "https://localhost:8080/"
        },
        "outputId": "11858bd6-01ae-41b9-d618-5c3258711ef7"
      },
      "execution_count": 40,
      "outputs": [
        {
          "output_type": "stream",
          "name": "stdout",
          "text": [
            "\n",
            "Nouns:\n",
            "hotel: ['great', 'good', 'stay', 'lot', 'time']\n",
            "room: ['small', 'clean', 'bathroom', 'floor', 'problem']\n",
            "service: ['like', 'desk', 'bit', 'think', 'people']\n",
            "\n",
            "Verbs:\n",
            "stay: ['night', 'hotel', 'time', 'place', 'lot']\n",
            "enjoy: ['visit', 'time', 'love', 'recommend', 'open']\n",
            "recommend: ['stay', 'time', 'place', 'resort', 'end']\n",
            "\n",
            "Adjectives:\n",
            "clean: ['comfortable', 'room', 'bed', 'bathroom', 'large']\n",
            "comfortable: ['clean', 'bed', 'large', 'room', 'spacious']\n",
            "friendly: ['staff', 'helpful', 'time', 'extremely', 'people']\n"
          ]
        }
      ]
    },
    {
      "cell_type": "code",
      "source": [
        "# Get embeddings from the CBOW5 model\n",
        "embeddings = model_cbow5.embeddings  # Access the embedding layer\n",
        "\n",
        "# Find and print closest words\n",
        "for category, words in [('Nouns', nouns), ('Verbs', verbs), ('Adjectives', adjectives)]:\n",
        "    print(f\"\\n{category}:\")\n",
        "    for word in words:\n",
        "        closest = get_closest_words(word, word_to_ix_reviews, embeddings)\n",
        "        print(f\"{word}: {closest}\")"
      ],
      "metadata": {
        "id": "g0PJZC0lV3YS",
        "colab": {
          "base_uri": "https://localhost:8080/"
        },
        "outputId": "71bc4744-07d1-4ee5-e7c9-dab701978263"
      },
      "execution_count": 47,
      "outputs": [
        {
          "output_type": "stream",
          "name": "stdout",
          "text": [
            "\n",
            "Nouns:\n",
            "hotel: ['great', 'stay', 'location', 'service', 'good']\n",
            "room: ['clean', 'night', 'nice', 'hotel', 'time']\n",
            "service: ['hotel', 'good', 'location', 'stay', 'great']\n",
            "\n",
            "Verbs:\n",
            "stay: ['hotel', 'night', 'great', 'service', 'place']\n",
            "enjoy: ['great', 'like', 'hotel', 'location', 'area']\n",
            "recommend: ['excellent', 'book', 'good', 'location', 'stay']\n",
            "\n",
            "Adjectives:\n",
            "clean: ['room', 'nice', 'bed', 'view', 'staff']\n",
            "comfortable: ['clean', 'nice', 'room', 'little', 'book']\n",
            "friendly: ['staff', 'nice', 'view', 'wonderful', 'area']\n"
          ]
        }
      ]
    },
    {
      "cell_type": "markdown",
      "source": [
        "### 2.2 Repeat 2.1 for SciFi Dataset\n",
        "\n",
        "🗒❓ List your findings for SciFi Dataset as well, similarly to 2.1"
      ],
      "metadata": {
        "id": "njWN32I2ADn9"
      }
    },
    {
      "cell_type": "code",
      "source": [
        "# Words to test\n",
        "nouns_sci_fi = ['robot', 'time', 'technology']\n",
        "verbs_sci_fi = ['explore', 'discover', 'communicate']\n",
        "adjectives_sci_fi = ['strange', 'advanced', 'intelligent']\n",
        "\n",
        "# Get embeddings from the Sci-Fi model\n",
        "embeddings_sci_fi = model_sci_fi_cbow2.embeddings  # Access the embedding layer of your Sci-Fi model\n",
        "\n",
        "# Find and print closest words for the Sci-Fi dataset\n",
        "for category, words in [('Nouns', nouns_sci_fi), ('Verbs', verbs_sci_fi), ('Adjectives', adjectives_sci_fi)]:\n",
        "    print(f\"\\n{category}:\")\n",
        "    for word in words:\n",
        "        if word in word_to_ix_sci_fi:  # Check if the word is in the vocabulary\n",
        "            closest = get_closest_words(word, word_to_ix_sci_fi, embeddings_sci_fi)\n",
        "            print(f\"{word}: {closest}\")\n",
        "        else:\n",
        "            print(f\"{word} is not in the vocabulary.\")"
      ],
      "metadata": {
        "id": "h3Uyn_VpAWa-",
        "colab": {
          "base_uri": "https://localhost:8080/"
        },
        "outputId": "6063079a-6976-41b6-d62c-7dde729817d3"
      },
      "execution_count": 49,
      "outputs": [
        {
          "output_type": "stream",
          "name": "stdout",
          "text": [
            "\n",
            "Nouns:\n",
            "robot: ['crew', 'officer', 'build', 'bar', 'seat']\n",
            "time: ['soon', 'minute', 'long', 'guess', 'expect']\n",
            "technology: ['silkie', 'actual', 'theirs', 'highly', 'prediction']\n",
            "\n",
            "Verbs:\n",
            "explore: ['newly', 'original', 'library', 'future', 'quarter']\n",
            "discover: ['remain', 'apparently', 'bear', 'build', 'describe']\n",
            "communicate: ['remote', 'awareness', 'unfortunately', 'encounter', 'activity']\n",
            "\n",
            "Adjectives:\n",
            "strange: ['existence', 'race', 'alien', 'deep', 'tiny']\n",
            "advanced: ['psychology', 'socalle', 'technique', 'teacher', 'efficiency']\n",
            "intelligent: ['ancestor', 'highly', 'nature', 'generally', 'specie']\n"
          ]
        }
      ]
    },
    {
      "cell_type": "markdown",
      "source": [
        "### 2.3 🗒❓ How does the quality of the hotel review-based embeddings compare with the Sci-fi-based embeddings? Elaborate."
      ],
      "metadata": {
        "id": "E2yqWM5oAhzf"
      }
    },
    {
      "cell_type": "markdown",
      "source": [],
      "metadata": {
        "id": "oQrywIKgA1Ct"
      }
    },
    {
      "cell_type": "markdown",
      "source": [
        "### 2.4 Choose 2 words and retrieve their 5 closest neighbours according to hotel review-based embeddings and the Sci-fi-based embeddings.\n",
        "\n",
        "🗒❓ Do they have different neighbours? If yes, can you reason why?"
      ],
      "metadata": {
        "id": "Ivwn8YCgA4GX"
      }
    },
    {
      "cell_type": "code",
      "source": [
        "\n",
        "words_to_compare = ['room', 'star']\n",
        "\n",
        "# Hotel review-based embeddings\n",
        "for word in words_to_compare:\n",
        "    closest_words = get_closest_words(word, word_to_ix_reviews, embeddings) #LATER CHANGE TO ***model1***\n",
        "    print(f\"Closest words to '{word}' in Hotel Reviews: {closest_words}\")\n",
        "\n",
        "# Sci-fi-based embeddings\n",
        "for word in words_to_compare:\n",
        "    closest = get_closest_words(word, word_to_ix_sci_fi, embeddings_sci_fi) # LATER CHANGE TO ***model3*** # Use word_to_ix2 for Sci-fi\n",
        "    print(f\"Closest words to '{word}' in Sci-Fi: {closest}\")\n"
      ],
      "metadata": {
        "id": "4J_xUKzgA3gU",
        "colab": {
          "base_uri": "https://localhost:8080/"
        },
        "outputId": "b19ae3fe-eb97-4e85-f916-0aa955300e30"
      },
      "execution_count": 51,
      "outputs": [
        {
          "output_type": "stream",
          "name": "stdout",
          "text": [
            "Closest words to 'room' in Hotel Reviews: ['clean', 'night', 'nice', 'hotel', 'time']\n",
            "Closest words to 'star' in Hotel Reviews: ['right', '10', 'night', 'hotel', 'good']\n",
            "Closest words to 'room' in Sci-Fi: ['lock', 'door', 'table', 'walk', 'open']\n",
            "Closest words to 'star' in Sci-Fi: ['sun', 'galaxy', 'space', 'middle', 'planet']\n"
          ]
        }
      ]
    },
    {
      "cell_type": "markdown",
      "source": [
        "### 2.5 🗒❓ What are the differences between CBOW2 and CBOW5 ? Can you \"describe\" them?    "
      ],
      "metadata": {
        "id": "DD09lU02Cw7e"
      }
    },
    {
      "cell_type": "markdown",
      "source": [],
      "metadata": {
        "id": "L9SZlUPM4mZr"
      }
    },
    {
      "cell_type": "markdown",
      "source": [
        "### Report\n",
        "The lab report should contain a detailed description of the approaches you have used to solve this exercise. Please also include results.\n",
        "\n",
        "### Report\n",
        "The lab report should contain a detailed description of the approaches you have used to solve this exercise. Please also include results.\n",
        "\n",
        "Answers for the questions marked 🗒❓ goes here as well\n",
        "\n",
        "\n",
        "\n",
        "1.3 🗒❓ Describe your decisions for preprocessing the datasets\n",
        "\n",
        "Ans: Our main goal in preprocessing was to reduce the data size as much as possible without affecting the overall context of the data.\n",
        "For this, we implemented the following things;\n",
        "\n",
        "  1. Removed common stopwords which occur in the English language. (ex: is, was, the, etc)\n",
        "\n",
        "  2. Removed all the numbers.\n",
        "\n",
        "  3. Removed all the punctuation marks.\n",
        "\n",
        "  4. Lowercased the entire data.\n",
        "\n",
        "  5. Lemmatization of the data (ex: “running” to “run”).\n",
        "\n",
        "By following these steps, we ensured consistency across the tokened data and also managed to reduce the size of the data significantly.\n",
        "\n",
        "\n",
        "\n",
        "\n",
        "\n",
        "\n",
        "1.5 🗒❓ Are predictions made by the model sensitive towards the context size?\n",
        "\n",
        "Ans: Yes.\n",
        "\n",
        "\n",
        "2.1 🗒❓ List them in your report (at the end of this notebook) and comment on the performance of your model: do the neighbours the model provides make sense? Discuss.\n",
        "\n",
        "Ans:\n",
        "\n",
        "Nouns:\n",
        "hotel: ['great', 'good', 'stay', 'lot', 'time']\n",
        "\n",
        "room: ['small', 'clean', 'bathroom', 'floor', 'problem']\n",
        "\n",
        "service: ['like', 'desk', 'bit', 'think', 'people']\n",
        "\n",
        "Verbs:\n",
        "stay: ['night', 'hotel', 'time', 'place', 'lot']\n",
        "\n",
        "enjoy: ['visit', 'time', 'love', 'recommend', 'open']\n",
        "\n",
        "recommend: ['stay', 'time', 'place', 'resort', 'end']\n",
        "\n",
        "Adjectives:\n",
        "clean: ['comfortable', 'room', 'bed', 'bathroom', 'large']\n",
        "\n",
        "comfortable: ['clean', 'bed', 'large', 'room', 'spacious']\n",
        "\n",
        "friendly: ['staff', 'helpful', 'time', 'extremely', 'people']\n",
        "\n",
        "In my opinion, the model did a pretty decent job, and the neighbours do make sense. The CBOW2 model captures the more localized context of the word and gives out specific word similarities, which may sometimes not be the first words that come into our mind, but in a local context, they make sense.\n",
        "\n",
        "\n",
        "2.2 🗒❓ Repeat 2.1 for SciFi Dataset, List your findings for SciFi Dataset as well, similarly to 2.1\n",
        "\n",
        "Ans:\n",
        "\n",
        "Nouns:\n",
        "robot: ['crew', 'officer', 'build', 'bar', 'seat']\n",
        "\n",
        "time: ['soon', 'minute', 'long', 'guess', 'expect']\n",
        "\n",
        "technology: ['silkie', 'actual', 'theirs', 'highly', 'prediction']\n",
        "\n",
        "Verbs:\n",
        "explore: ['newly', 'original', 'library', 'future', 'quarter']\n",
        "\n",
        "discover: ['remain', 'apparently', 'bear', 'build', 'describe']\n",
        "\n",
        "communicate: ['remote', 'awareness', 'unfortunately', 'encounter', 'activity']\n",
        "\n",
        "Adjectives:\n",
        "strange: ['existence', 'race', 'alien', 'deep', 'tiny']\n",
        "\n",
        "advanced: ['psychology', 'socalle', 'technique', 'teacher', 'efficiency']\n",
        "\n",
        "intelligent: ['ancestor', 'highly', 'nature', 'generally', 'specie']\n",
        "\n",
        "The results seem a bit random, but if we think of a specific context, most of them make sense. There are some typos and errors, this might be an effect of lemmatization and unpunctuating the data and only noticeable in Sci_Fi because of the sheer size of the raw data.\n",
        "\n",
        "2.3 🗒❓ How does the quality of the hotel review-based embeddings compare with the Sci-fi-based embeddings? Elaborate.\n",
        "\n",
        "Ans:\n",
        " It is clear that the embeddings of hotel_reviews is better compared to Sci-fi-based embeddings In my opinion, this is because of the context. For hotel_reviews, all the data are related to reviews of hotels, so the model learns everything that connects to the hotels. But, in contrast, for Sci_fi, the data is much more diverse and unconnected to each other, which makes it really hard for the model to come up with patterns.\n",
        "\n",
        "\n",
        "\n",
        "2.4 🗒❓ Do they have different neighbours? If yes, can you reason why?\n",
        "\n",
        "Ans:\n",
        "\n",
        "Closest words to 'room' in Hotel Reviews: ['clean', 'night', 'nice', 'hotel', 'time']\n",
        "\n",
        "Closest words to 'star' in Hotel Reviews: ['right', '10', 'night', 'hotel', 'good']\n",
        "\n",
        "Closest words to 'room' in Sci-Fi: ['lock', 'door', 'table', 'walk', 'open']\n",
        "\n",
        "Closest words to 'star' in Sci-Fi: ['sun', 'galaxy', 'space', 'middle', 'planet']\n",
        "\n",
        "The concern which I raised in the previous response can be seen here, for the word 'room' in Sci_fi, while 4 of the predictions make sense, it also says 'walk', it can be interpreted as an entirely unrelated context the model learnt in some random science fiction story. While, in hotel_reviews, the model only learn's about hotels.\n",
        "\n",
        "\n",
        "\n",
        "2.5 🗒❓ What are the differences between CBOW2 and CBOW5 ? Can you \"describe\" them?\n",
        "\n",
        " Ans: The CBOW2 has a context window of 2 while CBOW5 has a context window of 5. This allows CBOW5 to capture a more generalised view of the word, while CBOW2 captures the view of things which are more closely associated with the word.\n",
        "\n",
        " This can be clearly observed in the results we got for the word 'hotel' in CBOW2 and CBOW5;\n",
        "\n",
        "\n",
        " CBOW2 hotel: ['great', 'good', 'stay', 'lot', 'time']\n",
        "\n",
        " CBOW5 hotel: ['great', 'stay', 'location', 'service', 'good']\n",
        "\n",
        " The CBOW5 captures words like 'location' and 'service', which are general for that word.\n",
        "\n",
        "\n"
      ],
      "metadata": {
        "id": "RdgWLLHJC24h"
      }
    },
    {
      "cell_type": "markdown",
      "source": [],
      "metadata": {
        "id": "eLWqDG2GFV69"
      }
    }
  ]
}